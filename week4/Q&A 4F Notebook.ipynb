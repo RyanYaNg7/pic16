{
 "cells": [
  {
   "cell_type": "markdown",
   "metadata": {},
   "source": [
    "<i>\n",
    "Q. In Python, is there an equivalent for \"virtual\" from C++?\n",
    "</i>\n",
    "\n",
    "No. In Python, all methods are effectively \"virtual\". \n",
    "\n",
    "Alternatively, we might say that there is no such thing as a superclass-typed reference/pointer to a subclass object. Because Python is dynamically typed, references are effectively typed the same as the object they refer to. \n"
   ]
  },
  {
   "cell_type": "code",
   "execution_count": 27,
   "metadata": {},
   "outputs": [
    {
     "name": "stdout",
     "output_type": "stream",
     "text": [
      "Do Something A\n",
      "Do Something B\n",
      "Do Something B\n"
     ]
    }
   ],
   "source": [
    "class ClassA(object):\n",
    "    def my_method(self):\n",
    "        print \"Do Something A\"\n",
    "        \n",
    "class ClassB(ClassA):\n",
    "    def my_method(self):\n",
    "        print \"Do Something B\"\n",
    "        \n",
    "a = ClassA()\n",
    "a.my_method()\n",
    "\n",
    "b = ClassB()\n",
    "b.my_method()\n",
    "\n",
    "a = ClassB()  # a is a reference to a ClassB object\n",
    "a.my_method() # so it does the ClassB thing."
   ]
  },
  {
   "cell_type": "markdown",
   "metadata": {},
   "source": [
    "<hr>\n",
    "<i>\n",
    "Q. Can a class have multiple parent classes to refer to? \n",
    "</i>\n",
    "\n",
    "A. Yes. It's called multiple inheritance. We will see it when working with GUIs, but we don't need to know all the rules. Just know that it's possible, and this is how you do it:"
   ]
  },
  {
   "cell_type": "code",
   "execution_count": 2,
   "metadata": {},
   "outputs": [
    {
     "name": "stdout",
     "output_type": "stream",
     "text": [
      "Do Method A\n",
      "Do Other B\n"
     ]
    }
   ],
   "source": [
    "class ClassA(object):\n",
    "    def method(self):\n",
    "        print \"Do Method A\"\n",
    "        \n",
    "class ClassB(object):\n",
    "    def method(self):\n",
    "        print \"Do Method B\"\n",
    "    \n",
    "    def other(self):\n",
    "        print \"Do Other B\"\n",
    "        \n",
    "class ClassC(ClassA, ClassB): # try switching the order to ClassB, ClassA and run again\n",
    "    pass\n",
    "        \n",
    "c = ClassC()\n",
    "c.method()\n",
    "c.other()"
   ]
  },
  {
   "cell_type": "markdown",
   "metadata": {},
   "source": [
    "<hr>\n",
    "<i>\n",
    "Q. Can you explain about the use of \"super\"?\n",
    "</i>\n",
    "\n",
    "A. I did my best to explain in the preparation. If you have specific questions, please ask. Here's another example:"
   ]
  },
  {
   "cell_type": "code",
   "execution_count": 4,
   "metadata": {},
   "outputs": [
    {
     "name": "stdout",
     "output_type": "stream",
     "text": [
      "Do Something B\n",
      "Do Something A\n"
     ]
    }
   ],
   "source": [
    "class ClassA(object):\n",
    "    def my_method(self):\n",
    "        print \"Do Something A\"\n",
    "        \n",
    "class ClassB(ClassA):\n",
    "    def my_method(self):\n",
    "        print \"Do Something B\"\n",
    "             \n",
    "b = ClassB()\n",
    "b.my_method()\n",
    "\n",
    "a = super(ClassB, b)\n",
    "a.my_method()\n"
   ]
  },
  {
   "cell_type": "markdown",
   "metadata": {},
   "source": [
    "<hr>\n",
    "<i>\n",
    "Q. If there are three classes defined as:\n",
    "</i>\n"
   ]
  },
  {
   "cell_type": "code",
   "execution_count": 30,
   "metadata": {
    "collapsed": true
   },
   "outputs": [],
   "source": [
    "class ClassA(object):\n",
    "    def my_method(self):\n",
    "        print \"Do Something A\"\n",
    "        \n",
    "class ClassB(ClassA):\n",
    "    def my_method(self):\n",
    "        print \"Do Something B\"\n",
    "        \n",
    "class ClassC(ClassB):\n",
    "    def my_method(self):\n",
    "        print \"Do Something C\""
   ]
  },
  {
   "cell_type": "markdown",
   "metadata": {
    "collapsed": true
   },
   "source": [
    "<i>\n",
    "Is there anyway <tt>c</tt> can call `my_method` in `ClassA`?\n",
    "</i>\n",
    "\n",
    "A. Yup:"
   ]
  },
  {
   "cell_type": "code",
   "execution_count": 31,
   "metadata": {},
   "outputs": [
    {
     "name": "stdout",
     "output_type": "stream",
     "text": [
      "Do Something C\n",
      "Do Something B\n",
      "Do Something A\n"
     ]
    }
   ],
   "source": [
    "c = ClassC()\n",
    "c.my_method()\n",
    "\n",
    "b = super(ClassC, c)\n",
    "b.my_method()\n",
    "\n",
    "a = super(ClassB, c)\n",
    "a.my_method()"
   ]
  }
 ],
 "metadata": {
  "kernelspec": {
   "display_name": "Python 2",
   "language": "python",
   "name": "python2"
  },
  "language_info": {
   "codemirror_mode": {
    "name": "ipython",
    "version": 2
   },
   "file_extension": ".py",
   "mimetype": "text/x-python",
   "name": "python",
   "nbconvert_exporter": "python",
   "pygments_lexer": "ipython2",
   "version": "2.7.13"
  }
 },
 "nbformat": 4,
 "nbformat_minor": 1
}
