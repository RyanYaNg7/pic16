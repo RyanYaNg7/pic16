{
 "cells": [
  {
   "cell_type": "markdown",
   "metadata": {},
   "source": [
    "<i>\n",
    "Q. The 8th Lesson was to try to match using optional characters:\n",
    "</i>\n",
    "<pre>\n",
    "match    1 file  found?\n",
    "\n",
    "match    2 files found?\n",
    "\n",
    "match   24 files found?\n",
    "\n",
    "skip    No files found\n",
    "\n",
    "</pre>\n",
    "\n",
    "<i>\n",
    "The solution  was `\\d+ files? found\\?`\n",
    "\n",
    "I was just wondering if you would walk through the logic for this problem.\n",
    "\n",
    "Also, is there a way to check is there is a question mark in the string?\n",
    "</i>\n",
    "\n",
    "A. The solution provided in the <a href = \"https://regexone.com/lesson/optional_characters\">tutorial</a> gives its logic and states that the <tt>\\?</tt> is used to match the question mark character. I can explain it further in person, though.\n",
    "\n",
    "<hr>\n",
    "\n",
    "<i>\n",
    "Q. Another question I have is what is the main difference between \\d* and \\d+, when would you use one over another?\n",
    "</i>\n",
    "\n",
    "A. From the reference on the right of the tutorial page:\n",
    "<pre>\n",
    "\\* Zero or more repetitions\n",
    "\\+ One or more repetitions\n",
    "</pre>\n",
    "For <tt>x+</tt> to match, there has to be at least one <tt>x</tt>. <tt>x*</tt> means that <tt>x</tt> might be there but it's not required. In either case, there can be any greater number of <tt>x</tt>s.\n",
    "\n",
    "<hr>\n",
    "<i>\n",
    "Q. Could you please explain this example: print re.sub(regex, r\"\\2 of \\1\", \"June 24, August 9, Dec 12\")\n",
    "\n",
    "Q. In this code, why does \\2 of \\1 switch the positions of the month and date? How doe it work?\n",
    "</i>\n",
    "\n",
    "A. To answer this, we played around with the statement in lecture. `\\1` and `\\2` are the way of referring to the first and second capture group in `regex`, respectively. This is just the syntax for using `re.sub`. If you are still having trouble with this after reviewing the relevant part of the lecture video, let's talk about it in office hours."
   ]
  },
  {
   "cell_type": "code",
   "execution_count": 1,
   "metadata": {
    "collapsed": false
   },
   "outputs": [
    {
     "name": "stdout",
     "output_type": "stream",
     "text": [
      "24 of June, 9 of August, 12 of Dec\n"
     ]
    }
   ],
   "source": [
    "import re\n",
    "\n",
    "regex = r\"([a-zA-Z]+) (\\d+)\" \n",
    "\n",
    "print re.sub(regex, r\"\\2 of \\1\", \"June 24, August 9, Dec 12\")"
   ]
  },
  {
   "cell_type": "markdown",
   "metadata": {},
   "source": [
    "<hr>\n",
    "\n",
    "<i>\n",
    "Q. I am confused about the use of parentheses in expressions. The tutorial said that they are used to capture stuff, but the solution of \"Problem 1: Matching Decimal Numbers\" uses a bunch of parentheses but does not capture anything. Are the parentheses here used like how they are used in math (to group expressions together)?\n",
    "</i>\n",
    "\n",
    "A. We talked about it in class. In short, they're used both to group expressions together _and_ to indicate a capture group. Note that if you are using them just to group expressions together, a side effect is that you'll end up capturing that part. No big deal. You'll just be capturing more than you wanted, but you can always ignore that capture group. There are also non-capture groups; see <a href = \"https://stackoverflow.com/questions/3512471/what-is-a-non-capturing-group-what-does-a-question-mark-followed-by-a-colon\">here.</a>\n",
    "\n",
    "<hr>\n",
    "\n",
    "<i>\n",
    "Q. I'm still confused on how to use the Flag argument inside the string methods since it's not used in the examples on the website.\n",
    "\n",
    "Q. I had a question about what the flags=0 option does in some of the 're' methods? What's the difference between that and the re-Flags: re.ignoreCase, etc.?\n",
    "\n",
    "Q. What is the purpose of flags in re expressions? What do they count?\n",
    "</i>\n",
    "\n",
    "A. A `0` flag does nothing. Other flags, like `re.IGNORECASE`, change the rules by which regular expressions are interpreted. We discussed this in class using the following example; please review the video."
   ]
  },
  {
   "cell_type": "code",
   "execution_count": 30,
   "metadata": {
    "collapsed": false
   },
   "outputs": [
    {
     "name": "stdout",
     "output_type": "stream",
     "text": [
      "Full match: e 24\n",
      "Full match: Dec 12\n"
     ]
    }
   ],
   "source": [
    "import re\n",
    "# Lets use a regular expression to match a few date strings.\n",
    "regex = r\"[a-eA-E]+ \\d+\"\n",
    "flags = 0 # re.IGNORECASE\n",
    "matches = re.findall(regex, \"June 24, August 9, Dec 12\", flags = flags )\n",
    "for match in matches:\n",
    "    # This will print:\n",
    "    #   June 24\n",
    "    #   August 9\n",
    "    #   Dec 12\n",
    "    print \"Full match: %s\" % (match)"
   ]
  },
  {
   "cell_type": "markdown",
   "metadata": {},
   "source": [
    "<hr>\n",
    "<i>\n",
    "Q. The example for <code>re.search()</code>, \n",
    "</i>"
   ]
  },
  {
   "cell_type": "code",
   "execution_count": 2,
   "metadata": {
    "collapsed": true
   },
   "outputs": [],
   "source": [
    "import re \n",
    "regex = r\"([A-Z][a-z]+) (\\d+)\" \n",
    "match = re.search(regex, \"part of a larger June 24 string\") "
   ]
  },
  {
   "cell_type": "code",
   "execution_count": 6,
   "metadata": {
    "collapsed": false
   },
   "outputs": [
    {
     "name": "stdout",
     "output_type": "stream",
     "text": [
      "<_sre.SRE_Match object at 0x0000000003B92250>\n",
      "Match at index 17, 24\n",
      "June 24\n",
      "June\n",
      "24\n"
     ]
    }
   ],
   "source": [
    "print match # a match object, with methods like group, start (index of first character), and end (index AFTER last character)\n",
    "print \"Match at index %s, %s\" % (match.start(), match.end()) \n",
    "print match.group(0) # the whole text of the match\n",
    "print match.group(1) # the first capture group\n",
    "print match.group(2) # the second capture group"
   ]
  },
  {
   "cell_type": "markdown",
   "metadata": {},
   "source": [
    "<i>I am confused by the use of match.start(). Is re.search a method? if so, what is start()? I do not understand the type.</i>\n",
    "\n",
    "A. `re.search` is a function in the `re` module. It returns a `match` object if there is a match, or `None` if not. The `match` object has methods like, `start`, `end`, and `group`, explained in comments above.\n",
    "\n",
    "<hr>\n",
    "\n",
    "<i> Q.\n",
    "In the above code, we use () to group the characters, which is month in this case. But why we print out the start and end of each match, it contains both month and day?</i>\n",
    "\n",
    "A. () indicates what is to be <i>captured</i>. But we <i>matched</i> the entired date. So it prints out the indices corresponding with the beginning and ending of the entire match, not just the capture group.\n",
    "\n",
    "<hr>\n",
    "<i>\n",
    "Q. In the first example of the tutorial, how can typing \"abc\" match to abc, abcde and abcdefg? Shouldn't it only match to the first option?\n",
    "</i>\n",
    "\n",
    "A. Good question. It only matches the `abc` part of the string; you're rignt. But the websites gives you credit for matching any part of the string. I suggest you try doing the tutorial such that all your regular expressions match the entirety of the strings you are supposed to match (make all of it turn green); this is more challenging. As to which is important in practice, it really depends on the problem. "
   ]
  },
  {
   "cell_type": "markdown",
   "metadata": {},
   "source": [
    "<hr>\n",
    "<i>\n",
    "Q. With respect to matching, what does the group() method return?\n",
    "</i>\n",
    "\n",
    "A. See example above. `group(0)` always returns the entire match. `group(i)` returns the `i`th capture group."
   ]
  },
  {
   "cell_type": "code",
   "execution_count": null,
   "metadata": {
    "collapsed": true
   },
   "outputs": [],
   "source": [
    "import re\n",
    "# Lets use a regular expression to match a date string. Ignore\n",
    "# the output since we are just testing if the regex matches.\n",
    "regex = r\"([a-zA-Z]+) (\\d+)\"\n",
    "if re.search(regex, \"June 24\"):\n",
    "    # Indeed, the expression \"([a-zA-Z]+) (\\d+)\" matches the date string\n",
    "    \n",
    "    # If we want, we can use the MatchObject's start() and end() methods \n",
    "    # to retrieve where the pattern matches in the input string, and the \n",
    "    # group() method to get all the matches and captured groups.\n",
    "    match = re.search(regex, \"June 24\")\n",
    "    \n",
    "    # This will print [0, 7), since it matches at the beginning and end of the \n",
    "    # string\n",
    "    print \"Match at index %s, %s\" % (match.start(), match.end())\n",
    "    \n",
    "    # The groups contain the matched values.  In particular:\n",
    "    #    match.group(0) always returns the fully matched string\n",
    "    #    match.group(1) match.group(2), ... will return the capture\n",
    "    #            groups in order from left to right in the input string\n",
    "    #    match.group() is equivalent to match.group(0)\n",
    "    \n",
    "    # So this will print \"June 24\"\n",
    "    print \"Full match: %s\" % (match.group(0))\n",
    "    # So this will print \"June\"\n",
    "    print \"Month: %s\" % (match.group(1))\n",
    "    # So this will print \"24\"\n",
    "    print \"Day: %s\" % (match.group(2))\n",
    "else:\n",
    "    # If re.search() does not match, then None is returned\n",
    "    print \"The regex pattern does not match. :(\""
   ]
  },
  {
   "cell_type": "markdown",
   "metadata": {},
   "source": [
    "<hr>\n",
    "<i>\n",
    "Q. Could you please explain how to use the <tt>re.finditer()</tt> method and access values?\n",
    "</i>\n",
    "\n",
    "A. `re.search` returns only one `match` object, which corresponds with the _last_ match in the text (apparently). `re.finditer` returns an iterator to go through _all_ the matches found in the text. In the example below, `matches` is an iterator for going through each match found in the string \"June 24, August 9, Dec 12\". There are three matches, so the loop runs three times; each time `match` is a different object of type `match`, or `_sre.STRE_Match` to be specific."
   ]
  },
  {
   "cell_type": "code",
   "execution_count": 17,
   "metadata": {
    "collapsed": false
   },
   "outputs": [
    {
     "name": "stdout",
     "output_type": "stream",
     "text": [
      "<type '_sre.SRE_Match'>\n",
      "Match 'Dec 12' at index: 19, 25\n",
      "\n",
      "<type '_sre.SRE_Match'>\n",
      "Match 'June 24' at index: 0, 7\n",
      "<type '_sre.SRE_Match'>\n",
      "Match 'August 9' at index: 9, 17\n",
      "<type '_sre.SRE_Match'>\n",
      "Match 'Dec 12' at index: 19, 25\n"
     ]
    }
   ],
   "source": [
    "regex = r\"([a-zA-Z]+) \\d+\"\n",
    "\n",
    "firstmatch = re.search(regex, \"June 24, August 9, Dec 12\")\n",
    "print type(match)\n",
    "print \"Match '%s' at index: %s, %s\" % (match.group(0), match.start(), match.end())\n",
    "\n",
    "print \n",
    "\n",
    "matches = re.finditer(regex, \"June 24, August 9, Dec 12\")\n",
    "for match in matches:\n",
    "    # This will now print:\n",
    "    #   0 7\n",
    "    #   9 17\n",
    "    #   19 25\n",
    "    # which corresponds with the start and end of each match in the input string\n",
    "    print type(match)\n",
    "    print \"Match '%s' at index: %s, %s\" % (match.group(0), match.start(), match.end())"
   ]
  },
  {
   "cell_type": "markdown",
   "metadata": {},
   "source": [
    "<hr>\n",
    "<i>\n",
    "Q. For this method, since we already have the pattern to be replace, why do still need a paramemter <tt>input_str</tt>?\n",
    "\n",
    "<code>replacedString = re.sub(pattern, replacement_pattern, input_str, count, flags=0)</code>\n",
    "</i>\n",
    "\n",
    "A. Technically we should say that <tt>sub</tt> is a function, not a method, as it is not defined within a class. <tt>re</tt> refers to a module, not a regular object.\n",
    "\n",
    "If you are doing a substitution in a text processor, like Microsoft Word, you need:\n",
    "<ol>\n",
    "<li>The phrase to be replaced (<tt>pattern</tt>)</li>\n",
    "<li>The phrase to replace it with (<tt>replacement_pattern</tt>)</li>\n",
    "<li>The document you are working on (<tt>input_str</tt>)</li>\n",
    "</ol>\n",
    "<p>\n",
    "`re.sub` needs three arguments because three pieces of information are required to perform a substitution. If this doesn't make sense, let's do some practice with substitution in a text processor together so that you understand what <tt>re.sub</tt> is supposed to do."
   ]
  },
  {
   "cell_type": "markdown",
   "metadata": {},
   "source": [
    "<hr>\n",
    "<i>\n",
    "Q. Could you please talk more about the metacharacter \\b and back referencing? \n",
    "</i>\n",
    "\n",
    "A. These are beyond the scope of the class. In fact I haven't used them (... or I might have used back referencing <emph>once</emph>). But I don't remember anything about them. Still, I'd be happy to look them up with you in office hours. \n",
    "\n",
    "<hr>\n",
    "<i>\n",
    "Q. What is PCRE compatible?\n",
    "</i>\n",
    "\n",
    "A. Not all regular expression engines behave in exactly the same way. Some have more advanced capabilities than others; some just work a little differently. From <a href = \"https://en.wikipedia.org/wiki/Perl_Compatible_Regular_Expressions\">Wikipedia</a>: \"Perl Compatible Regular Expressions (PCRE) is a regular expression C library inspired by the regular expression capabilities in the Perl programming language.\" To be compatibile with that is to have similar behavior.\n",
    "\n",
    "<hr>\n",
    "<i>\n",
    "Q. Would you only ever use re.finditer(pattern, string) for finding the positions of matches? If not, then I'm not clear on what the difference is between re.finditer(pattern, string) and re.findall(pattern, string).\n",
    "</i>\n",
    "\n",
    "A. Maybe? Which function to use depends on what you need to do. Understand what the different functions do and then select the appropriate one for your needs.\n",
    "\n",
    "`re.finditer` returns an iterator that yields a `match` object corresponding with each match found. `match` objects contain more data than just the value of each capture group. For example, `match.start()` gives the starting index. If you need this information, definitely use `re.finditer`; you can't get it from `re.findall`. If you only need, say, 10 matches (out of thousands), use `re.finditer`, because an iterator can give you the first 10, one at a time, and ignore the rest. If you're concerned about memory efficiency `re.finditer`, again because it will only give you one `match` at a time rather than storing them all in memory simultaneously.\n",
    "\n",
    "`re.findall` returns a list of strings (only one capture group) or tuples of strings (multiple capture groups). That's all the information that's captured in a list. If you need _all_ the captured data at once and you don't need any other information like `start` and `end`, then `re.findall` is what you need.\n",
    "\n"
   ]
  },
  {
   "cell_type": "markdown",
   "metadata": {},
   "source": [
    "<hr>\n",
    "<i>\n",
    "Q: what is the different between regular string and raw string? \n",
    "</i>\n",
    "\n",
    "A. As a reminder:"
   ]
  },
  {
   "cell_type": "code",
   "execution_count": 20,
   "metadata": {
    "collapsed": false
   },
   "outputs": [
    {
     "name": "stdout",
     "output_type": "stream",
     "text": [
      "Here is a\n",
      "newline\n",
      "Here\tare\tsome\ttabs.\\\n",
      "\n",
      "Here is a\\nnewline\\nHere\\tare\\tsome\\ttabs.\\\\\n"
     ]
    }
   ],
   "source": [
    "a =  \"Here is a\\nnewline\\nHere\\tare\\tsome\\ttabs.\\\\\"\n",
    "b = r\"Here is a\\nnewline\\nHere\\tare\\tsome\\ttabs.\\\\\"\n",
    "print a\n",
    "print \n",
    "print b"
   ]
  },
  {
   "cell_type": "markdown",
   "metadata": {},
   "source": [
    "In short, a raw string interprets each character you type literally. A regular string interprets certain sequences of characters like `\\\\` (backslash), `\\t` (tab), and `\\n` (newline) to mean something different than the two characters mean separately. In a regular string, the `\\` is called an \"escape\" character, it indicates that the following character will have a special meaning that may be different from what the character means by itself."
   ]
  },
  {
   "cell_type": "markdown",
   "metadata": {},
   "source": [
    "<hr>\n",
    "<i>\n",
    "Q. What is the different between new line(\\n) and the carriage return (\\r) \n",
    "</i>\n",
    "\n",
    "A. For the computer perspective, read <a href = \"https://stackoverflow.com/questions/10059142/reading-r-carriage-return-vs-n-newline-from-console-with-getc/10059171\">this</a>. Regarding the history, \"The separation comes from typewriter times, when you turned the wheel to move the paper to change the line and moved the carriage to restart typing on the beginning of a line. This was two steps.\" (<a href = \"https://stackoverflow.com/questions/12747722/what-is-the-difference-between-a-line-feed-and-a-carriage-return\">here</a>)"
   ]
  },
  {
   "cell_type": "markdown",
   "metadata": {},
   "source": [
    "<hr>\n",
    "<i>\n",
    "Q. To match a literal backslash, why sometimes you have to write \"\\\\\\\\\"? I thought only need \"\\\\\"? \n",
    "</i>\n",
    "\n",
    "A. That's why you should use a raw string. If you use a regular string, you have to type \"\\\\\" to get the string to understand that you're really talking about that \"\\\" character, and then the regular expression also needs \"\\\\\" to understand that you really want the \"\\\". If you use a raw string, then when you type \"\\\", it knows you <i>mean</i> \"\\\", so two is sufficient."
   ]
  },
  {
   "cell_type": "code",
   "execution_count": null,
   "metadata": {
    "collapsed": true
   },
   "outputs": [],
   "source": [
    "regex = r\"\\\\\"\n",
    "g = re.search(regex, r\"The \\ is at position 4.\")\n",
    "print g.start()\n",
    "\n",
    "regex = \"\\\\\\\\\"\n",
    "g = re.search(regex, r\"The \\ is at position 4.\")\n",
    "print g.start()"
   ]
  },
  {
   "cell_type": "markdown",
   "metadata": {},
   "source": [
    "<hr>\n",
    "<i>\n",
    "Q. Can you talk about \"^\" and \"$\" in multiline mode?\n",
    "\n",
    "Q. What is the difference between \"^\" and \"\\A\"?\n",
    " </i>\n",
    "\n",
    "A. We could look into this in office hours. In the meantime, <a href = \"https://stackoverflow.com/questions/4250062/what-is-the-difference-between-and-a-and-z-in-regex\">this</a> might help.\n",
    "<hr>\n",
    "<i>\n",
    "Q. I have problems with understanding this example. <p>\n",
    "\n",
    "<code>>>> m = re.match(r\"(..)+\", \"a1b2c3\")  # Matches 3 times.</code>\n",
    "\n",
    "Thank you. \n",
    "</i>\n",
    "\n",
    "A. We took a look at this in at least one of the lectures. Please ask in office hours if you missed it or need more help."
   ]
  },
  {
   "cell_type": "markdown",
   "metadata": {},
   "source": [
    "<hr>\n",
    "<i>\n",
    "Q. Can the * quantifier be used in place of the ? quantifier in all cases? \n",
    "</i>\n",
    "\n",
    "A. No. We gave an example in class in which they produce different results. Their meanings are different, and the difference is not so subtle. `*` means \"zero or more\", `?` means \"optional\" or \"zero or one\".\n",
    "\n",
    "<hr>\n",
    "<i>\n",
    "Q. Could you show an example of how \\b is used (Lession 15)?\n",
    "</i>\n",
    "\n",
    "A. Would be happy to look into it with you in office hours.\n",
    "\n",
    "<hr>\n",
    "<i>\n",
    "Q. Can you elaborate on how `^...$` can be used individually? I saw you used `$` alone to indicate where you want the match to end, can we do the same with `^`? \n",
    "</i>\n",
    "\n",
    "A. Each can be used independent of the other. `^` is put at the beginning of a regular expression pattern to indicate the pattern appear at the beginning of the string to be considered a match. `$` is put at the end of a regular expression pattern to indicate the pattern must appear at the end of the string  to be considered a match. You might see `^` at the beginning without `$` at the end because you want to specify how a string begins but not how it ends. (Vice-versa is also true). If you put `^` at the beginning _and_ `$` at the end, then you are specifying how a string must begin and end to be considered a match.\n",
    "\n",
    "Note that you might also see `^` within square brackets, but that means something totally different, something like \"not\".\n",
    "\n",
    "<hr>\n",
    "<i>\n",
    "Q. Also, is there any situation where using `^...$` is mandatory? (in most practice problems, I didn't see differences with and without this expression)\n",
    "</i>\n",
    "\n",
    "A. Yes. Consider if you are trying to find portable document format (`.pdf`) files. You have three files.\n",
    "<pre>\n",
    "a.pdf\n",
    "b.pdf\n",
    "c.pdf.txt\n",
    "</pre>\n",
    "The third is a text file, not a `.pdf` file. `c.pdf` is its name, `.txt` is its extension. Don't ask my why you have a file named like that, but it's possible and that sort of thing absolutely does happen in practice.\n",
    "So if you want a regular expression that matches only true `.pdf` filenames, you'll want to ensure that `.pdf` appears at the very end, e.g. `r\".+\\.pdf$\"` \n",
    "</i>"
   ]
  },
  {
   "cell_type": "code",
   "execution_count": null,
   "metadata": {
    "collapsed": true
   },
   "outputs": [],
   "source": []
  }
 ],
 "metadata": {
  "kernelspec": {
   "display_name": "Python 2",
   "language": "python",
   "name": "python2"
  },
  "language_info": {
   "codemirror_mode": {
    "name": "ipython",
    "version": 2
   },
   "file_extension": ".py",
   "mimetype": "text/x-python",
   "name": "python",
   "nbconvert_exporter": "python",
   "pygments_lexer": "ipython2",
   "version": "2.7.12"
  }
 },
 "nbformat": 4,
 "nbformat_minor": 1
}
