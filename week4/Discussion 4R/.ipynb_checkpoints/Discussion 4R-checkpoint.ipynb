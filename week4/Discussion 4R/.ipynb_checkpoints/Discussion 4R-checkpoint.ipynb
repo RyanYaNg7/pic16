{
 "cells": [
  {
   "cell_type": "markdown",
   "metadata": {},
   "source": [
    "# PIC 16 - Discussion 4R\n",
    "# 02/01/2018 Thursday\n",
    "\n",
    "# Today's Office Hour: 5:00 pm - 6:00 pm MS 2330"
   ]
  },
  {
   "cell_type": "markdown",
   "metadata": {},
   "source": [
    "## About Super"
   ]
  },
  {
   "cell_type": "code",
   "execution_count": null,
   "metadata": {},
   "outputs": [],
   "source": [
    "class Rectangle(object):\n",
    "    def __init__(self, width, height):\n",
    "        self.width = width\n",
    "        self.height = height\n",
    "        self.area = width * height\n",
    "\n",
    "class Square(Rectangle):\n",
    "    def __init__(self, length):\n",
    "        super(Square,self).__init__(length, length)\n",
    "\n",
    "s = Square(5)\n",
    "print s.area"
   ]
  },
  {
   "cell_type": "code",
   "execution_count": null,
   "metadata": {},
   "outputs": [],
   "source": [
    "import math\n",
    "\n",
    "class Triangle(object):\n",
    "    def __init__(self, a, b, C):\n",
    "        self.a = a\n",
    "        self.b = b\n",
    "        self.C = C\n",
    "        self.area = 0.5 * a * b * math.sin(C)\n",
    "        \n",
    "a = Triangle(1,2,math.pi/2)\n",
    "print a.area"
   ]
  },
  {
   "cell_type": "markdown",
   "metadata": {},
   "source": [
    "## Problem\n",
    "\n",
    "Create a class for **Equilateral** using **super** just as **Square**\n",
    "\n",
    "Input:\n",
    "\n",
    "    a = Equilateral(4)\n",
    "    print a.area\n",
    "\n",
    "Output:\n",
    "\n",
    "    6.92820323028"
   ]
  },
  {
   "cell_type": "code",
   "execution_count": null,
   "metadata": {
    "scrolled": true
   },
   "outputs": [],
   "source": [
    "###\n",
    "        \n",
    "a = Equilateral(4)\n",
    "print a.area"
   ]
  },
  {
   "cell_type": "markdown",
   "metadata": {},
   "source": [
    "---\n",
    "## More about super"
   ]
  },
  {
   "cell_type": "code",
   "execution_count": null,
   "metadata": {},
   "outputs": [],
   "source": [
    "class Animal(object):\n",
    "    def __init__(self, animalName):\n",
    "        print animalName, 'is an animal.'\n",
    "\n",
    "class Mammal(Animal):\n",
    "    def __init__(self, mammalName):\n",
    "        print mammalName, 'is a warm-blooded animal.'\n",
    "        super(Mammal,self).__init__(mammalName)\n",
    "\n",
    "m = Mammal('lion')"
   ]
  },
  {
   "cell_type": "code",
   "execution_count": null,
   "metadata": {
    "collapsed": true
   },
   "outputs": [],
   "source": [
    "class NonWingedMammal(Mammal):\n",
    "    def __init__(self, NonWingedMammalName):\n",
    "        print NonWingedMammalName, \"can't fly.\"\n",
    "        super(NonWingedMammal,self).__init__(NonWingedMammalName)\n",
    "\n",
    "class NonMarineMammal(Mammal):\n",
    "    def __init__(self, NonMarineMammalName):\n",
    "        print NonMarineMammalName, \"can't swim.\"\n",
    "        super(NonMarineMammal,self).__init__(NonMarineMammalName)"
   ]
  },
  {
   "cell_type": "code",
   "execution_count": null,
   "metadata": {},
   "outputs": [],
   "source": [
    "class Dog(NonMarineMammal, NonWingedMammal):\n",
    "    def __init__(self):\n",
    "        print 'Dog has 4 legs.'\n",
    "        super(Dog,self).__init__('Dog')\n",
    "    \n",
    "d = Dog()"
   ]
  },
  {
   "cell_type": "markdown",
   "metadata": {},
   "source": [
    "## Problem\n",
    "\n",
    "Make new classes **WingedMammal** and **Bat** and print out\n",
    "\n",
    "    Bat has 2 wings\n",
    "    Bat can fly    \n",
    "    Bat can't swim.\n",
    "    Bat is a warm-blooded animal.\n",
    "    Bat is an animal."
   ]
  },
  {
   "cell_type": "code",
   "execution_count": null,
   "metadata": {},
   "outputs": [],
   "source": [
    "###\n",
    "\n",
    "bat = Bat()"
   ]
  },
  {
   "cell_type": "markdown",
   "metadata": {},
   "source": [
    "## Using re"
   ]
  },
  {
   "cell_type": "code",
   "execution_count": null,
   "metadata": {
    "collapsed": true
   },
   "outputs": [],
   "source": [
    "import re\n",
    "\n",
    "USER_RE = re.compile(r\"^[a-zA-Z0-9_-]{3,20}$\")\n",
    "\n",
    "EMAIL_RE  = re.compile(r'^[\\S]+@[\\S]+\\.[\\S]+$')"
   ]
  },
  {
   "cell_type": "code",
   "execution_count": null,
   "metadata": {},
   "outputs": [],
   "source": [
    "name = 'bill'\n",
    "print USER_RE.match(name)\n",
    "print USER_RE.findall(name)"
   ]
  },
  {
   "cell_type": "code",
   "execution_count": null,
   "metadata": {},
   "outputs": [],
   "source": [
    "name = 'b'\n",
    "print USER_RE.match(name)"
   ]
  },
  {
   "cell_type": "code",
   "execution_count": null,
   "metadata": {},
   "outputs": [],
   "source": [
    "name = 'bill&'\n",
    "print USER_RE.match(name)\n",
    "\n",
    "n = 'dri*dnk@asd'\n",
    "print EMAIL_RE.findall(n)"
   ]
  },
  {
   "cell_type": "code",
   "execution_count": null,
   "metadata": {},
   "outputs": [],
   "source": [
    "import csv\n",
    "\n",
    "with open(\"./names.csv\") as F:\n",
    "    csvreader = csv.reader(F)\n",
    "    data   = []\n",
    "    \n",
    "    for i in csvreader:\n",
    "        if USER_RE.match(i[0]):\n",
    "            print i[0], \"- valid username\"\n",
    "            data.append(i)\n",
    "        else:\n",
    "            print i[0], \"- not valid\""
   ]
  },
  {
   "cell_type": "code",
   "execution_count": null,
   "metadata": {
    "collapsed": true
   },
   "outputs": [],
   "source": [
    "with open(\"names2.csv\",\"wb\") as f:\n",
    "    w = csv.writer(f,delimiter = \",\")\n",
    "    w.writerow(([\"name\"]))\n",
    "    for row in data:\n",
    "        w.writerow(row)"
   ]
  },
  {
   "cell_type": "markdown",
   "metadata": {},
   "source": [
    "## Problem\n",
    "\n",
    "Open **data.csv** and process the file and save it as **data2.csv**."
   ]
  },
  {
   "cell_type": "code",
   "execution_count": null,
   "metadata": {
    "collapsed": true
   },
   "outputs": [],
   "source": []
  }
 ],
 "metadata": {
  "anaconda-cloud": {},
  "kernelspec": {
   "display_name": "Python 2",
   "language": "python",
   "name": "python2"
  },
  "language_info": {
   "codemirror_mode": {
    "name": "ipython",
    "version": 2
   },
   "file_extension": ".py",
   "mimetype": "text/x-python",
   "name": "python",
   "nbconvert_exporter": "python",
   "pygments_lexer": "ipython2",
   "version": "2.7.14"
  }
 },
 "nbformat": 4,
 "nbformat_minor": 1
}
