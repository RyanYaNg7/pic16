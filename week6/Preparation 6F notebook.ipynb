{
 "cells": [
  {
   "cell_type": "code",
   "execution_count": 1,
   "metadata": {
    "collapsed": false
   },
   "outputs": [],
   "source": [
    "import numpy as np"
   ]
  },
  {
   "cell_type": "code",
   "execution_count": 31,
   "metadata": {
    "collapsed": false
   },
   "outputs": [
    {
     "name": "stdout",
     "output_type": "stream",
     "text": [
      "[[9 7 5 3 1]\n",
      " [8 6 4 2 0]]\n"
     ]
    }
   ],
   "source": [
    "N = 9\n",
    "a = np.array([range(N,-1,-2),range(N-1,-1,-2)])\n",
    "print a"
   ]
  },
  {
   "cell_type": "code",
   "execution_count": 24,
   "metadata": {
    "collapsed": false
   },
   "outputs": [
    {
     "data": {
      "text/plain": [
       "2"
      ]
     },
     "execution_count": 24,
     "metadata": {},
     "output_type": "execute_result"
    }
   ],
   "source": [
    "# this is the number of rows\n",
    "len(a)"
   ]
  },
  {
   "cell_type": "code",
   "execution_count": 19,
   "metadata": {
    "collapsed": false
   },
   "outputs": [
    {
     "data": {
      "text/plain": [
       "(2, 5)"
      ]
     },
     "execution_count": 19,
     "metadata": {},
     "output_type": "execute_result"
    }
   ],
   "source": [
    "# this is the number of elements in each dimension\n",
    "# len only gives the first of these numbers\n",
    "np.shape(a)"
   ]
  },
  {
   "cell_type": "code",
   "execution_count": 18,
   "metadata": {
    "collapsed": false
   },
   "outputs": [
    {
     "data": {
      "text/plain": [
       "(2, 5)"
      ]
     },
     "execution_count": 18,
     "metadata": {},
     "output_type": "execute_result"
    }
   ],
   "source": [
    "a.shape"
   ]
  },
  {
   "cell_type": "code",
   "execution_count": 27,
   "metadata": {
    "collapsed": false
   },
   "outputs": [
    {
     "data": {
      "text/plain": [
       "True"
      ]
     },
     "execution_count": 27,
     "metadata": {},
     "output_type": "execute_result"
    }
   ],
   "source": [
    "# this is the number of dimensions\n",
    "a.ndim\n",
    "# an array with 3 rows and 5 columns still has only two dimensions (ndim = 2)\n",
    "# you can have N-dimensional numpy arrays. A 3 dimensional array could be created using a list of list of lists."
   ]
  },
  {
   "cell_type": "code",
   "execution_count": 29,
   "metadata": {
    "collapsed": false
   },
   "outputs": [
    {
     "name": "stdout",
     "output_type": "stream",
     "text": [
      "True\n",
      "True\n"
     ]
    }
   ],
   "source": [
    "# the following are always true\n",
    "print len(a) == a.shape[0]\n",
    "print a.ndim == len(a.shape)"
   ]
  },
  {
   "cell_type": "code",
   "execution_count": 30,
   "metadata": {
    "collapsed": false
   },
   "outputs": [
    {
     "data": {
      "text/plain": [
       "array([9, 8, 7, 6, 5, 4, 3, 2, 1, 0])"
      ]
     },
     "execution_count": 30,
     "metadata": {},
     "output_type": "execute_result"
    }
   ],
   "source": [
    "np.arange(9,-1,-1)"
   ]
  },
  {
   "cell_type": "code",
   "execution_count": 33,
   "metadata": {
    "collapsed": false
   },
   "outputs": [
    {
     "data": {
      "text/plain": [
       "array([ 0. ,  0.1,  0.2,  0.3,  0.4,  0.5,  0.6,  0.7,  0.8,  0.9,  1. ])"
      ]
     },
     "execution_count": 33,
     "metadata": {},
     "output_type": "execute_result"
    }
   ],
   "source": [
    "np.linspace(0,1,11)"
   ]
  },
  {
   "cell_type": "code",
   "execution_count": 38,
   "metadata": {
    "collapsed": false
   },
   "outputs": [
    {
     "data": {
      "text/plain": [
       "array([[ 2.,  1.,  1.],\n",
       "       [ 1.,  2.,  1.],\n",
       "       [ 1.,  1.,  2.]])"
      ]
     },
     "execution_count": 38,
     "metadata": {},
     "output_type": "execute_result"
    }
   ],
   "source": [
    "np.ones(3) + np.eye(3)"
   ]
  },
  {
   "cell_type": "code",
   "execution_count": 41,
   "metadata": {
    "collapsed": false
   },
   "outputs": [
    {
     "data": {
      "text/plain": [
       "array([[  0. ,   0. ,   0. ,   0. ,   0. ],\n",
       "       [  0. ,   2.5,   0. ,   0. ,   0. ],\n",
       "       [  0. ,   0. ,   5. ,   0. ,   0. ],\n",
       "       [  0. ,   0. ,   0. ,   7.5,   0. ],\n",
       "       [  0. ,   0. ,   0. ,   0. ,  10. ]])"
      ]
     },
     "execution_count": 41,
     "metadata": {},
     "output_type": "execute_result"
    }
   ],
   "source": [
    "np.zeros(5) + np.diag(np.linspace(0,10,5))"
   ]
  },
  {
   "cell_type": "code",
   "execution_count": 43,
   "metadata": {
    "collapsed": false
   },
   "outputs": [
    {
     "data": {
      "text/plain": [
       "array([[[ 0.28688818,  0.63834958],\n",
       "        [ 0.56648828,  0.71432035]],\n",
       "\n",
       "       [[ 0.10646044,  0.41633747],\n",
       "        [ 0.06880903,  0.27788435]]])"
      ]
     },
     "execution_count": 43,
     "metadata": {},
     "output_type": "execute_result"
    }
   ],
   "source": [
    "# can create multidimensional random arrays\n",
    "np.random.rand(2,2,2)"
   ]
  },
  {
   "cell_type": "code",
   "execution_count": 46,
   "metadata": {
    "collapsed": false
   },
   "outputs": [
    {
     "name": "stdout",
     "output_type": "stream",
     "text": [
      "0.417022004703\n",
      "0.720324493442\n",
      "0.000114374817345\n",
      "\n",
      "0.417022004703\n",
      "0.720324493442\n",
      "0.000114374817345\n",
      "\n",
      "0.435994902142\n",
      "0.0259262318279\n",
      "0.549662477879\n"
     ]
    }
   ],
   "source": [
    "# Seeds allow you to control the sequence of pseudorandom numbers\n",
    "# This can be useful if you want to repeat some sort of test using the same randomly distributed numbers each time\n",
    "np.random.seed(1)\n",
    "print np.random.rand()\n",
    "print np.random.rand()\n",
    "print np.random.rand()\n",
    "print \"\"\n",
    "np.random.seed(1)\n",
    "print np.random.rand()\n",
    "print np.random.rand()\n",
    "print np.random.rand()\n",
    "print \"\"\n",
    "np.random.seed(2)\n",
    "print np.random.rand()\n",
    "print np.random.rand()\n",
    "print np.random.rand()"
   ]
  },
  {
   "cell_type": "code",
   "execution_count": 2,
   "metadata": {
    "collapsed": false
   },
   "outputs": [
    {
     "data": {
      "text/plain": [
       "array([  0.00000000e+000,   2.68156175e+154,   2.15421298e-314,\n",
       "         2.15423205e-314,   0.00000000e+000])"
      ]
     },
     "execution_count": 2,
     "metadata": {},
     "output_type": "execute_result"
    }
   ],
   "source": [
    "# not necessarily RANDOM, just uninitialized\n",
    "np.empty(5)\n",
    "# it's like when you create an int and C++ but don't initialize it\n",
    "# it has whatever value happened to be written in memory at that time\n",
    "# Useful if you want to assemble an array value by value but you know the size/shape in advance\n",
    "\n",
    "# It's important to understand why this is not necessarily RANDOM\n",
    "# A sequence of random numbers tends to satisfy certain mathematically properties\n",
    "# A sequence of uninitialized numbers will not, in general, satisfy these properties"
   ]
  },
  {
   "cell_type": "code",
   "execution_count": 3,
   "metadata": {
    "collapsed": false
   },
   "outputs": [
    {
     "name": "stdout",
     "output_type": "stream",
     "text": [
      "0.503721824586\n",
      "0.499288851523\n",
      "0.499349469477\n",
      "0.0\n",
      "0.0\n",
      "0.0\n"
     ]
    }
   ],
   "source": [
    "N = 10000\n",
    "a = np.random.rand(N)\n",
    "b = np.random.rand(N)\n",
    "c = np.random.rand(N)\n",
    "print np.mean(a)\n",
    "print np.mean(b)\n",
    "print np.mean(c)\n",
    "d = np.empty(N)\n",
    "e = np.empty(N)\n",
    "f = np.empty(N)\n",
    "print np.mean(d)\n",
    "print np.mean(e)\n",
    "print np.mean(f)"
   ]
  },
  {
   "cell_type": "code",
   "execution_count": 4,
   "metadata": {
    "collapsed": true
   },
   "outputs": [],
   "source": [
    "%matplotlib inline "
   ]
  },
  {
   "cell_type": "code",
   "execution_count": 6,
   "metadata": {
    "collapsed": false
   },
   "outputs": [
    {
     "data": {
      "text/plain": [
       "[<matplotlib.lines.Line2D at 0x10c93bfd0>]"
      ]
     },
     "execution_count": 6,
     "metadata": {},
     "output_type": "execute_result"
    },
    {
     "data": {
      "image/png": "[encoded data removed]",
      "text/plain": [
       "<matplotlib.figure.Figure at 0x10a546610>"
      ]
     },
     "metadata": {},
     "output_type": "display_data"
    }
   ],
   "source": [
    "import matplotlib.pyplot as plt\n",
    "x = np.linspace(0,2*np.pi,100)\n",
    "y = np.cos(x)\n",
    "plt.plot(x,y)"
   ]
  },
  {
   "cell_type": "code",
   "execution_count": 13,
   "metadata": {
    "collapsed": false
   },
   "outputs": [
    {
     "data": {
      "text/plain": [
       "<matplotlib.image.AxesImage at 0x10d60eb50>"
      ]
     },
     "execution_count": 13,
     "metadata": {},
     "output_type": "execute_result"
    },
    {
     "data": {
      "image/png": "[encoded data removed]",
      "text/plain": [
       "<matplotlib.figure.Figure at 0x10cfda350>"
      ]
     },
     "metadata": {},
     "output_type": "display_data"
    }
   ],
   "source": [
    "plt.imshow(np.eye(10), interpolation = \"nearest\", cmap = \"gray\")"
   ]
  },
  {
   "cell_type": "code",
   "execution_count": 18,
   "metadata": {
    "collapsed": false
   },
   "outputs": [
    {
     "name": "stdout",
     "output_type": "stream",
     "text": [
      "[ 99.  97.  95.  93.  91.  89.  87.  85.  83.  81.  79.  77.  75.  73.  71.\n",
      "  69.  67.  65.  63.  61.  59.  57.  55.  53.  51.  49.  47.  45.  43.  41.\n",
      "  39.  37.  35.  33.  31.  29.  27.  25.  23.  21.  19.  17.  15.  13.  11.\n",
      "   9.   7.   5.   3.   1.]\n",
      "[  0.   2.   4.   6.   8.  10.  12.  14.  16.  18.  20.  22.  24.  26.  28.\n",
      "  30.  32.  34.  36.  38.  40.  42.  44.  46.  48.  50.  52.  54.  56.  58.\n",
      "  60.  62.  64.  66.  68.  70.  72.  74.  76.  78.  80.  82.  84.  86.  88.\n",
      "  90.  92.  94.  96.  98.]\n"
     ]
    }
   ],
   "source": [
    "x = np.linspace(0,99,100)\n",
    "print x[::-2]\n",
    "print x[::2]"
   ]
  },
  {
   "cell_type": "code",
   "execution_count": 27,
   "metadata": {
    "collapsed": false
   },
   "outputs": [
    {
     "name": "stdout",
     "output_type": "stream",
     "text": [
      "[[1 1 1 1]\n",
      " [1 1 1 1]\n",
      " [1 1 1 2]\n",
      " [1 6 1 1]]\n"
     ]
    }
   ],
   "source": [
    "x = np.ones((4,4),dtype = \"int\")\n",
    "x[3,1] = 6\n",
    "x[2,3] = 2\n",
    "print x"
   ]
  },
  {
   "cell_type": "code",
   "execution_count": 35,
   "metadata": {
    "collapsed": true
   },
   "outputs": [],
   "source": [
    "np.diag?"
   ]
  },
  {
   "cell_type": "code",
   "execution_count": 34,
   "metadata": {
    "collapsed": false
   },
   "outputs": [
    {
     "name": "stdout",
     "output_type": "stream",
     "text": [
      "[[ 0.  0.  0.  0.  0.]\n",
      " [ 2.  0.  0.  0.  0.]\n",
      " [ 0.  3.  0.  0.  0.]\n",
      " [ 0.  0.  4.  0.  0.]\n",
      " [ 0.  0.  0.  5.  0.]\n",
      " [ 0.  0.  0.  0.  6.]]\n"
     ]
    }
   ],
   "source": [
    "N = 6\n",
    "x = np.zeros((N,N-1))\n",
    "x[1:,:] = np.diag(np.arange(N-1)+2)\n",
    "print x"
   ]
  },
  {
   "cell_type": "code",
   "execution_count": 43,
   "metadata": {
    "collapsed": false
   },
   "outputs": [
    {
     "data": {
      "text/plain": [
       "array([[4, 3, 4, 3, 4, 3],\n",
       "       [2, 1, 2, 1, 2, 1],\n",
       "       [4, 3, 4, 3, 4, 3],\n",
       "       [2, 1, 2, 1, 2, 1]])"
      ]
     },
     "execution_count": 43,
     "metadata": {},
     "output_type": "execute_result"
    }
   ],
   "source": [
    "a = np.array([[4,3],[2,1]])\n",
    "np.tile(a,(2,3))"
   ]
  },
  {
   "cell_type": "code",
   "execution_count": 53,
   "metadata": {
    "collapsed": false
   },
   "outputs": [
    {
     "name": "stdout",
     "output_type": "stream",
     "text": [
      "(array([ 2,  3,  5,  7, 11, 13, 17, 19, 23, 29, 31, 37, 41, 43, 47, 53, 59,\n",
      "       61, 67, 71, 73, 79, 83, 89, 97]),)\n"
     ]
    }
   ],
   "source": [
    "\n",
    "is_prime = np.ones((100,), dtype=bool)\n",
    "is_prime[:2] = 0\n",
    "N_max = int(np.sqrt(len(is_prime) - 1))\n",
    "for j in range(2, N_max + 1):\n",
    "    is_prime[2*j::j] = False\n",
    "\n",
    "print np.nonzero(is_prime)"
   ]
  },
  {
   "cell_type": "code",
   "execution_count": 70,
   "metadata": {
    "collapsed": false
   },
   "outputs": [
    {
     "name": "stdout",
     "output_type": "stream",
     "text": [
      "(array([ 2,  3,  5,  7, 11, 13, 17, 19, 23, 29, 31, 37, 41, 43, 47, 53, 59,\n",
      "       61, 67, 71, 73, 79, 83, 89, 97]),)\n"
     ]
    }
   ],
   "source": [
    "# w/ sieve of Eratosthenes\n",
    "is_prime = np.ones((100,), dtype=bool)\n",
    "is_prime[:2] = 0\n",
    "N_max = int(np.sqrt(len(is_prime) - 1))\n",
    "for j in range(2, N_max + 1):\n",
    "    if is_prime[j]:\n",
    "        is_prime[j*j::j] = False\n",
    "    \n",
    "print np.nonzero(is_prime)\n",
    "is_prime100 = is_prime"
   ]
  },
  {
   "cell_type": "code",
   "execution_count": 69,
   "metadata": {
    "collapsed": false
   },
   "outputs": [
    {
     "name": "stdout",
     "output_type": "stream",
     "text": [
      "Finding primes through 10000000: 0.736656 s\n",
      "Sieve of Eratosthenes 10000000: 0.136934 s\n"
     ]
    }
   ],
   "source": [
    "from time import clock\n",
    "\n",
    "N = 10000000\n",
    "\n",
    "t1 = clock()\n",
    "is_prime = np.ones((N,), dtype=bool)\n",
    "is_prime[:2] = 0\n",
    "N_max = int(np.sqrt(len(is_prime) - 1))\n",
    "for j in range(2, N_max + 1):\n",
    "    is_prime[2*j::j] = False\n",
    "t2 = clock()\n",
    "print \"Finding primes through \"+ str(N) + \":\", t2-  t1, \"s\"\n",
    "\n",
    "t1 = clock()\n",
    "is_prime = np.ones((N,), dtype=bool)\n",
    "is_prime[:2] = 0\n",
    "N_max = int(np.sqrt(len(is_prime) - 1))\n",
    "for j in range(2, N_max + 1):\n",
    "    if is_prime[j]:\n",
    "        is_prime[j*j::j] = False\n",
    "t2 = clock()\n",
    "print \"Sieve of Eratosthenes \"+ str(N) + \":\", t2-  t1, \"s\"\n"
   ]
  },
  {
   "cell_type": "code",
   "execution_count": 71,
   "metadata": {
    "collapsed": false
   },
   "outputs": [
    {
     "data": {
      "text/plain": [
       "array([ 2,  3,  5,  7, 11, 13, 17, 19, 23, 29, 31, 37, 41, 43, 47, 53, 59,\n",
       "       61, 67, 71, 73, 79, 83, 89, 97])"
      ]
     },
     "execution_count": 71,
     "metadata": {},
     "output_type": "execute_result"
    }
   ],
   "source": [
    "# Example of Boolean indexing\n",
    "np.arange(100)[is_prime100]"
   ]
  },
  {
   "cell_type": "code",
   "execution_count": 72,
   "metadata": {
    "collapsed": true
   },
   "outputs": [],
   "source": [
    "# 1.3.2"
   ]
  },
  {
   "cell_type": "code",
   "execution_count": 73,
   "metadata": {
    "collapsed": false
   },
   "outputs": [
    {
     "data": {
      "text/plain": [
       "array([  1,   5,   9,  13,  17,  21,  25,  29,  33,  37,  41,  45,  49,\n",
       "        53,  57,  61,  65,  69,  73,  77,  81,  85,  89,  93,  97, 101,\n",
       "       105, 109, 113, 117, 121, 125, 129, 133, 137, 141, 145, 149, 153,\n",
       "       157, 161, 165, 169, 173, 177, 181, 185, 189, 193, 197])"
      ]
     },
     "execution_count": 73,
     "metadata": {},
     "output_type": "execute_result"
    }
   ],
   "source": [
    "x = np.arange(100)\n",
    "x[0::2] + x[1::2]\n",
    "# I don't feel like timing the pure Python counterpart"
   ]
  },
  {
   "cell_type": "code",
   "execution_count": 76,
   "metadata": {
    "collapsed": false
   },
   "outputs": [
    {
     "data": {
      "text/plain": [
       "array([  1.,   2.,   4.,   8.,  16.])"
      ]
     },
     "execution_count": 76,
     "metadata": {},
     "output_type": "execute_result"
    }
   ],
   "source": [
    "N = 5\n",
    "(2*np.ones(N))**(np.arange(N))"
   ]
  },
  {
   "cell_type": "code",
   "execution_count": 78,
   "metadata": {
    "collapsed": false
   },
   "outputs": [
    {
     "data": {
      "text/plain": [
       "array([   1,    7,   62,  509, 4092])"
      ]
     },
     "execution_count": 78,
     "metadata": {},
     "output_type": "execute_result"
    }
   ],
   "source": [
    "j = np.arange(N)\n",
    "2**(3*j)-j"
   ]
  },
  {
   "cell_type": "code",
   "execution_count": 92,
   "metadata": {
    "collapsed": false
   },
   "outputs": [
    {
     "name": "stdout",
     "output_type": "stream",
     "text": [
      "False\n",
      "True\n"
     ]
    }
   ],
   "source": [
    "# np.allclose is great for checking when two arrays are essentially equal but for numerical errors\n",
    "# For instance, it's great for checking the solutoin of a system of equations, which cannot in general\n",
    "# be solved perfectly, if only due to roundoff error\n",
    "N = 10\n",
    "A = np.random.rand(N,N)\n",
    "b = np.random.rand(N,1)\n",
    "x = np.linalg.solve(A,b)\n",
    "print np.array_equal(A.dot(x), b)\n",
    "print np.allclose(A.dot(x),b)"
   ]
  },
  {
   "cell_type": "code",
   "execution_count": 99,
   "metadata": {
    "collapsed": false
   },
   "outputs": [
    {
     "data": {
      "text/plain": [
       "array([[ 0.,  0.,  0.,  0.,  0.],\n",
       "       [ 1.,  0.,  0.,  0.,  0.],\n",
       "       [ 1.,  1.,  0.,  0.,  0.],\n",
       "       [ 1.,  1.,  1.,  0.,  0.],\n",
       "       [ 1.,  1.,  1.,  1.,  0.]])"
      ]
     },
     "execution_count": 99,
     "metadata": {},
     "output_type": "execute_result"
    }
   ],
   "source": [
    "np.tril(np.ones((5,5)),-1)"
   ]
  },
  {
   "cell_type": "code",
   "execution_count": 100,
   "metadata": {
    "collapsed": false
   },
   "outputs": [
    {
     "data": {
      "text/plain": [
       "66"
      ]
     },
     "execution_count": 100,
     "metadata": {},
     "output_type": "execute_result"
    }
   ],
   "source": [
    "x = np.arange(12)\n",
    "np.sum(x)"
   ]
  },
  {
   "cell_type": "code",
   "execution_count": 101,
   "metadata": {
    "collapsed": false
   },
   "outputs": [
    {
     "data": {
      "text/plain": [
       "array([ 0,  1,  3,  6, 10, 15, 21, 28, 36, 45, 55, 66])"
      ]
     },
     "execution_count": 101,
     "metadata": {},
     "output_type": "execute_result"
    }
   ],
   "source": [
    "# sum of all elements up through element i VS sum of all elements\n",
    "np.cumsum(x)"
   ]
  },
  {
   "cell_type": "code",
   "execution_count": 102,
   "metadata": {
    "collapsed": false
   },
   "outputs": [
    {
     "data": {
      "text/plain": [
       "array([1, 1, 1, 1, 1, 1, 1, 1, 1, 1, 1])"
      ]
     },
     "execution_count": 102,
     "metadata": {},
     "output_type": "execute_result"
    }
   ],
   "source": [
    "# Difference between adjacent elements. Great for finite difference equations.\n",
    "np.diff(x)"
   ]
  },
  {
   "cell_type": "code",
   "execution_count": 107,
   "metadata": {
    "collapsed": false
   },
   "outputs": [
    {
     "name": "stdout",
     "output_type": "stream",
     "text": [
      "[[ 1 10]\n",
      " [ 3  4]]\n",
      "[[1 2]\n",
      " [3 4]]\n"
     ]
    }
   ],
   "source": [
    "x = np.array([[1,2],[3,4]])\n",
    "y = x.ravel()\n",
    "y[1] = 10\n",
    "print x\n",
    "\n",
    "x2 = np.array([[1,2],[3,4]])\n",
    "y2 = x.flatten()\n",
    "y2[1] = 10\n",
    "print x2\n",
    "\n",
    "# flatten returns a copy, ravel is just a view"
   ]
  },
  {
   "cell_type": "code",
   "execution_count": 109,
   "metadata": {
    "collapsed": false
   },
   "outputs": [
    {
     "name": "stdout",
     "output_type": "stream",
     "text": [
      "[ 0.55080906  0.24951296  0.11823041  0.69126352  0.36140791]\n",
      "[ 0.11823041  0.24951296  0.36140791  0.55080906  0.69126352]\n"
     ]
    }
   ],
   "source": [
    "x = np.random.rand(5)\n",
    "print x\n",
    "x.sort()\n",
    "print x"
   ]
  },
  {
   "cell_type": "code",
   "execution_count": 110,
   "metadata": {
    "collapsed": false
   },
   "outputs": [
    {
     "name": "stdout",
     "output_type": "stream",
     "text": [
      "[ 0.35344511  0.78300967  0.62770696  0.26898056  0.4858022 ]\n",
      "[ 0.35344511  0.78300967  0.62770696  0.26898056  0.4858022 ]\n",
      "[ 0.26898056  0.35344511  0.4858022   0.62770696  0.78300967]\n"
     ]
    }
   ],
   "source": [
    "x = np.random.rand(5)\n",
    "print x\n",
    "y = np.sort(x)\n",
    "print x\n",
    "print y"
   ]
  },
  {
   "cell_type": "code",
   "execution_count": 116,
   "metadata": {
    "collapsed": false
   },
   "outputs": [
    {
     "name": "stdout",
     "output_type": "stream",
     "text": [
      "[ 0.8867166   0.3261249   0.97280576  0.93951918  0.68652806  0.10807191\n",
      "  0.32237482  0.95721773  0.70935556  0.06691395  0.25851994  0.27130808\n",
      "  0.1642401   0.49544827  0.59109314  0.0965302   0.99905008  0.7362382\n",
      "  0.95292762  0.6027289   0.549502    0.08127697  0.63950321  0.67602688\n",
      "  0.67545799]\n",
      "[[ 0.8867166   0.3261249   0.97280576  0.93951918  0.68652806]\n",
      " [ 0.10807191  0.32237482  0.95721773  0.70935556  0.06691395]\n",
      " [ 0.25851994  0.27130808  0.1642401   0.49544827  0.59109314]\n",
      " [ 0.0965302   0.99905008  0.7362382   0.95292762  0.6027289 ]\n",
      " [ 0.549502    0.08127697  0.63950321  0.67602688  0.67545799]]\n",
      "[[ 0.06691395  0.08127697  0.0965302   0.10807191  0.1642401 ]\n",
      " [ 0.25851994  0.27130808  0.32237482  0.3261249   0.49544827]\n",
      " [ 0.549502    0.59109314  0.6027289   0.63950321  0.67545799]\n",
      " [ 0.67602688  0.68652806  0.70935556  0.7362382   0.8867166 ]\n",
      " [ 0.93951918  0.95292762  0.95721773  0.97280576  0.99905008]]\n"
     ]
    }
   ],
   "source": [
    "# Create 1D array with 25 elements\n",
    "x = np.random.rand(25)\n",
    "print x\n",
    "# Reshape to 2D 5x5 square\n",
    "y = x.reshape(5,5)\n",
    "print y\n",
    "# Create a 1D view\n",
    "z = np.ravel(y)\n",
    "\n",
    "# Sort in place\n",
    "z.sort()\n",
    "\n",
    "# Elements of the array are now sorted top-left through bottom-right\n",
    "print y"
   ]
  },
  {
   "cell_type": "code",
   "execution_count": 128,
   "metadata": {
    "collapsed": false
   },
   "outputs": [
    {
     "name": "stdout",
     "output_type": "stream",
     "text": [
      "[0 1 2 3 4]\n",
      "(5,)\n",
      "[[0]\n",
      " [1]\n",
      " [2]\n",
      " [3]\n",
      " [4]]\n",
      "[10  1  2  3  4]\n"
     ]
    }
   ],
   "source": [
    "x = np.arange(5)\n",
    "print x\n",
    "print x.shape\n",
    "\n",
    "# 1D array -> 2D array\n",
    "y = x[:,np.newaxis]\n",
    "print y\n",
    "print y.shape\n",
    "\n",
    "# In NumPy, slicing creates a view, not a copy\n",
    "y[0] = 10\n",
    "print x"
   ]
  },
  {
   "cell_type": "code",
   "execution_count": 131,
   "metadata": {
    "collapsed": false
   },
   "outputs": [
    {
     "name": "stdout",
     "output_type": "stream",
     "text": [
      "[0 1 2 3 4]\n",
      "(5,)\n",
      "[[0]\n",
      " [1]\n",
      " [2]\n",
      " [3]\n",
      " [4]]\n",
      "(5, 1)\n",
      "[10  1  2  3  4]\n"
     ]
    }
   ],
   "source": [
    "x = np.arange(5)\n",
    "print x\n",
    "print x.shape\n",
    "\n",
    "# I don't like np.newaxis; I forget how to use it. \n",
    "# Here's another way to accomplish the same thing (turn a 1D array into a 2D array)\n",
    "y = x.reshape(5,1)\n",
    "print y\n",
    "print y.shape\n",
    "\n",
    "# Reshape also usually creates a view. Sometimes it creates a copy (but don't count on it).\n",
    "y[0] = 10\n",
    "print x"
   ]
  },
  {
   "cell_type": "code",
   "execution_count": null,
   "metadata": {
    "collapsed": true
   },
   "outputs": [],
   "source": []
  }
 ],
 "metadata": {
  "anaconda-cloud": {},
  "kernelspec": {
   "display_name": "Python [Root]",
   "language": "python",
   "name": "Python [Root]"
  },
  "language_info": {
   "codemirror_mode": {
    "name": "ipython",
    "version": 2
   },
   "file_extension": ".py",
   "mimetype": "text/x-python",
   "name": "python",
   "nbconvert_exporter": "python",
   "pygments_lexer": "ipython2",
   "version": "2.7.12"
  }
 },
 "nbformat": 4,
 "nbformat_minor": 0
}
