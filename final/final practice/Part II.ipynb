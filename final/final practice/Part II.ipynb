{
 "cells": [
  {
   "cell_type": "markdown",
   "metadata": {},
   "source": [
    "In this (optional) part of the exam, you will demonstrate your understanding of PIC 16 common topics by implementing a hash table data structure. Let's start by discussing how hash tables work.\n",
    "\n",
    "In the first week of the course, we introduced the Python `set` and discussed that locating and removing elements from a `set` can be performed very efficiently. In fact, adding elements to, locating elements within, and removing elements from a `set` is:\n",
    "\n",
    "* _much_ faster than finding items in an unordered `list`, $O(N)$, in all but pathological cases; \n",
    "* usually faster than finding elements in a _sorted_ list using binary search, $O(\\log N)$; \n",
    "* and typically about as fast as finding a location in a `list` by index, $O(1)$.\n",
    "\n",
    "That's about as fast as it gets for such operations. The same speed applies to keys in a `dict`, and in Python, this speed in both `set`s and `dict`s is due to their implementation using hash tables.\n",
    "\n",
    "Our `HashTable` class will work like a `set` in that \n",
    "\n",
    "* elements can be found, added, and removed quickly;\n",
    "* an element is not added at particular place (using, say, an index or key), rather an element is simply _in_ or _not in_ the `HashTable`; and \n",
    "* when we iterate over a `HashTable`, elements may be returned in any order. \n",
    " \n",
    "However, our `HashTable` will differ from a `set` in that it can contain duplicate elements (sort of like an `unordered_multiset` in C++). \n",
    "\n",
    "Hash tables get their speed at the expense of memory. When a hash table is created, a large block of memory like a C++ array or Python list is pre-allocated. In our implementation, we'll actually start by making a big Python `list`, and this is where the elements of our `HashTable` will actually be stored. The difference is that our `HashTable` object will decide the index at which elements should go in the list rather than letting the programmer decide.\n",
    "\n",
    "To add an item to our hash table, we'll use a _hash function_ to calculate the index within the list where the item should be stored. A hash function is not something scary. It's just a function that accepts a string or other object as an input and outputs a non-negative integer, called a _hash_ which we'll use as an index. If the hash function is efficient, then adding an element to our hash table is super fast. We just use the hash function to calculate the hash, jump to that index, and write the element. \n",
    "\n",
    "Hash tables really shine when it comes to searching for elements and removing them. To find an element within our hash table, we'll use the same hash function to calculate the index where the element must be (if it is present). Once the index is known, we just jump to the index and check whether it's there. We can also remove it (say, by overwriting it with `None`) if desired.\n",
    "\n",
    "Think about the alternative, in which a programmer has decided the index number at which each element will go, or even has just pushed them onto the end of the list. When we need to find an arbitrary element, we have to look through each element in the list until we find the one we're looking for or get to the end. The longer the list is, the longer this takes.\n",
    "\n",
    "By letting the hash function decide where elements go, we eliminate all the time that would have to be spent searching through a list element by element. It doesn't matter how big the hash table gets; we just calculate the index of the desired element using the hash function and jump straight to that location. If it's there, great; if it's not, it's not in our hash table.\n",
    "\n",
    "It's like when you have designated places for items in an (organized) apartment rather than just tossing them wherever. It's much faster to find them when they're in the right place than looking in every possible place consecutively.\n",
    "\n",
    "There's one caveat: even good hash functions occasionally return the same index for different elements. You can see how this might be a problem - if we want to store elements `a` and `b` in the hash table but the hash function decides calculates the same index for each, there's a conflict. We can't store both at the exact same memory location. This is called a _collision_.\n",
    "\n",
    "Fortunately, it's an easy problem to fix. Rather than storing elements in the list directly, at each index of the list we'll store a reference to another list, which is called a _bucket_. When we want to put elements in our hash table, we'll put them in the appropriate bucket. Sure, now we'll have to look through the bucket element by element if we want to find a given element, but that's no big deal because if our hash function is good and our hash table has enough buckets, there will rarely be more than a few elements in each bucket.\n",
    "\n",
    "That's all the introduction we need to move along with the exam, but you are welcome to refer to the <a href = \"https://en.wikipedia.org/wiki/Hash_table\">Hash table</a> entry of Wikipedia for more information. Note, however, that the Wikipedia entry discusses hash tables in the context of an \"associative array\", which is like a \"map\" or `dict`. The important ideas behind our `HashTable` will be the same, but it's like our `HashTable` will only need to store the keys (no values), and we can have duplicates.\n",
    "\n",
    "Let's start by writing a hash function that can convert a string to an integer (which we could use as an index, if we pre-allocate enough memory). One such hash function is described in the documentation for a <a href = \"https://docs.oracle.com/javase/7/docs/api/java/lang/String.html#hashCode()\">Java string</a>. Given a string $s$ composed of unicode character codes $s_0$, $s_1$, $\\dots$, $s_{n-1}$, the hash function $h(s)$ is:\n",
    "\n",
    "$$ h(s) = 31^{n-1}s_0 + 31^{n-2}s_1 + \\cdots + 31^1s_{n-2} + 31^0 s_{n-1}$$\n",
    "\n",
    "1) Implement this hash function as `my_hash` below. Don't worry about using \"integer arithmetic\" as described in the Java documentation; just ensure that the result is an `int` when you're done. Regarding character codes, there's a Python built-in function that accepts a character - that is, a string of length 1 -  and returns the code. For full credit here and throughout the exam, write as \"pythonically\" as possible. Your code should be succinct, memory efficient, and fast, taking advantage of appropriate Python language features and built-in functions as appropriate.  "
   ]
  },
  {
   "cell_type": "code",
   "execution_count": null,
   "metadata": {
    "collapsed": true
   },
   "outputs": [],
   "source": [
    "s = \"hello\"\n",
    "def my_hash(s):\n",
    "    # complete this\n",
    "    h = \n",
    "    return h\n",
    "print my_hash(s)\n",
    "print 31**4*104 + 31**3*101 + 31**2*108 + 31**1*108 + 31**0*111 # example calculation for \"hello\""
   ]
  },
  {
   "cell_type": "markdown",
   "metadata": {},
   "source": [
    "Should print:\n",
    "```\n",
    "99162322\n",
    "99162322\n",
    "```"
   ]
  },
  {
   "cell_type": "markdown",
   "metadata": {},
   "source": [
    "Think your function is only useful for strings? Think again! Any Python object can be turned into a string....\n",
    "\n",
    "To avoid dependence on getting that part right, let's use Python's built-in `hash` function instead of `my_hash` for the rest of the exam. \n",
    "\n",
    "`hash` accepts immutable objects and returns an integer. "
   ]
  },
  {
   "cell_type": "code",
   "execution_count": 1,
   "metadata": {},
   "outputs": [
    {
     "name": "stdout",
     "output_type": "stream",
     "text": [
      "-1436115560\n",
      "320429996\n",
      "805310364\n"
     ]
    }
   ],
   "source": [
    "print hash(\"ekki-ekki\")\n",
    "print hash(\"42\")\n",
    "# print hash({'holy':'grail'})) # doesn't hash dicts directly because they're mutable\n",
    "print(hash((1,\"holy\",\"hand\", \"grenade\")))"
   ]
  },
  {
   "cell_type": "markdown",
   "metadata": {},
   "source": [
    "As you can see, the integer can be negative or really big, so it can't be used as an index directly. But let's say your hash table contains a list of size $n$. To get an index from the hash, just take the hash modulo (`%`) $n$."
   ]
  },
  {
   "cell_type": "code",
   "execution_count": 2,
   "metadata": {},
   "outputs": [
    {
     "name": "stdout",
     "output_type": "stream",
     "text": [
      "3\n",
      "0\n",
      "7\n",
      "[3.14159, None, None, 'foo', None, None, None, ('C-', 3, 'PO'), None, None]\n"
     ]
    }
   ],
   "source": [
    "# code is intentionally verbose and repetitive. yours should not be...\n",
    "\n",
    "n = 10\n",
    "l = [None, None, None, None, None, None, None, None, None, None]\n",
    "\n",
    "x = \"foo\"\n",
    "i = hash(x) % n\n",
    "print i\n",
    "l[i] = x\n",
    "\n",
    "x = 3.14159\n",
    "i = hash(x) % n\n",
    "print i\n",
    "l[i] = x\n",
    "\n",
    "x = (\"C-\",3,\"PO\")\n",
    "i = hash(x) % n\n",
    "print i\n",
    "l[i] = x\n",
    "\n",
    "print l"
   ]
  },
  {
   "cell_type": "markdown",
   "metadata": {},
   "source": [
    "Clearly it's just as easy to add something using the index from the hash function as any other index. But more importantly, because the hash function determined where the elements should go, we don't have to compare against each element to determine if something is in the hash table. It's either where the hash function would put it, or it's not there at all. "
   ]
  },
  {
   "cell_type": "code",
   "execution_count": 98,
   "metadata": {},
   "outputs": [
    {
     "name": "stdout",
     "output_type": "stream",
     "text": [
      "True\n",
      "[None, None, None, 'foo', None, None, None, ('C-', 3, 'PO'), None, None]\n",
      "False\n"
     ]
    }
   ],
   "source": [
    "x = 3.14159\n",
    "i = hash(x) % n\n",
    "print l[i] == x # in the hash table\n",
    "l[i] = None     # remove it\n",
    "print l\n",
    "\n",
    "x = 3.14\n",
    "i = hash(x) % n\n",
    "print l[i] == x # not in the hash table"
   ]
  },
  {
   "cell_type": "markdown",
   "metadata": {},
   "source": [
    "`3.14` wasn't in the hash table. What happens if we try to add it?"
   ]
  },
  {
   "cell_type": "code",
   "execution_count": 99,
   "metadata": {},
   "outputs": [
    {
     "name": "stdout",
     "output_type": "stream",
     "text": [
      "[None, None, None, 'foo', None, None, None, 3.14, None, None]\n"
     ]
    }
   ],
   "source": [
    "l[i] = x\n",
    "print l"
   ]
  },
  {
   "cell_type": "markdown",
   "metadata": {},
   "source": [
    "Oh noooos, 'C-3PO' got booted. That was a collision. For good performance, these should be rare (statistically), or we need a better hash function or to use a bigger table. Still, they can happen. You'll fix it using buckets.\n",
    "\n",
    "2) Write a class `HashTable`. The initializer should accept a parameter `n`, the number of buckets and set up a field `buckets`, a list containing `n` (empty) lists."
   ]
  },
  {
   "cell_type": "code",
   "execution_count": 100,
   "metadata": {
    "collapsed": true
   },
   "outputs": [],
   "source": [
    "# write your class"
   ]
  },
  {
   "cell_type": "code",
   "execution_count": 102,
   "metadata": {},
   "outputs": [
    {
     "name": "stdout",
     "output_type": "stream",
     "text": [
      "[[], [], [], [], [], [], [], [], [], []]\n"
     ]
    }
   ],
   "source": [
    "h = HashTable(10)\n",
    "print h.buckets"
   ]
  },
  {
   "cell_type": "markdown",
   "metadata": {},
   "source": [
    "Should print:\n",
    "```\n",
    "[[], [], [], [], [], [], [], [], [], []]\n",
    "```\n",
    "2b) Above, don't use `*` to set up your list of lists. Instead, use another compact notation to set up your list of lists. Why? See the example below, and try to explain in a comment _why_ the `1` appears to be added everywhere. (Don't spend a ton of time here; this won't be worth much credit. If you can't figure out what must be happening, move on and come back.)"
   ]
  },
  {
   "cell_type": "code",
   "execution_count": 103,
   "metadata": {},
   "outputs": [
    {
     "name": "stdout",
     "output_type": "stream",
     "text": [
      "[[1], [1], [1], [1], [1], [1], [1], [1], [1], [1]]\n"
     ]
    }
   ],
   "source": [
    "# example of why * is not a good way to initialize this list\n",
    "l = [[]]*10\n",
    "l[0].append(1)\n",
    "print l # not what we want!\n",
    "# why did this happen?"
   ]
  },
  {
   "cell_type": "markdown",
   "metadata": {},
   "source": [
    "3) Add a `get_bucket` method to your class (above) that accepts an (immutable, you can assume) object and returns a _reference_ to (not index of) the appropriate bucket in the field `buckets`. Test it below."
   ]
  },
  {
   "cell_type": "code",
   "execution_count": 104,
   "metadata": {},
   "outputs": [
    {
     "name": "stdout",
     "output_type": "stream",
     "text": [
      "[[], [], [], [], [], [3.14]]\n"
     ]
    }
   ],
   "source": [
    "h = HashTable(6)\n",
    "x = 3.14\n",
    "b = h.get_bucket(x)\n",
    "b.insert(0, x) # don't use insert anywhere yourself\n",
    "               # I'm doing this to avoid giving away a more appropriate choice\n",
    "print h.buckets"
   ]
  },
  {
   "cell_type": "markdown",
   "metadata": {},
   "source": [
    "Should print:\n",
    "```\n",
    "[[], [], [], [], [], [3.14]]\n",
    "```\n",
    "4) Add an `add` method (to your class above, as always) that accepts an immutable object and adds it to your hash table. Add an instance variable `size`, and use it to keep track of the number of elements actually being stored in your hash table."
   ]
  },
  {
   "cell_type": "code",
   "execution_count": 105,
   "metadata": {},
   "outputs": [
    {
     "name": "stdout",
     "output_type": "stream",
     "text": [
      "2\n",
      "[[], [], [], [], [], [], [], [3.14, ('C-', 3, 'PO')], [], []]\n"
     ]
    }
   ],
   "source": [
    "h = HashTable(10)\n",
    "h.add(3.14)\n",
    "h.add((\"C-\",3,\"PO\"))\n",
    "print h.size\n",
    "print h.buckets"
   ]
  },
  {
   "cell_type": "markdown",
   "metadata": {},
   "source": [
    "Should print:\n",
    "```\n",
    "2\n",
    "[[], [], [], [], [], [], [], [3.14, ('C-', 3, 'PO')], [], []]\n",
    "```"
   ]
  },
  {
   "cell_type": "markdown",
   "metadata": {},
   "source": [
    "5) Add a method `contains` that returns `True` if the argument is in the `HashTable` and `False` otherwise."
   ]
  },
  {
   "cell_type": "code",
   "execution_count": 106,
   "metadata": {},
   "outputs": [
    {
     "name": "stdout",
     "output_type": "stream",
     "text": [
      "True\n",
      "True\n",
      "False\n"
     ]
    }
   ],
   "source": [
    "h = HashTable(10)\n",
    "h.add(3.14)\n",
    "h.add((\"C-\",3,\"PO\"))\n",
    "print h.contains(3.14)\n",
    "print h.contains((\"C-\",3,\"PO\"))\n",
    "print h.contains(42)"
   ]
  },
  {
   "cell_type": "markdown",
   "metadata": {},
   "source": [
    "Should print:\n",
    "```\n",
    "True\n",
    "True\n",
    "False\n",
    "```\n",
    "\n",
    "5) Add a method `remove` that removes (any one) instance of an element from the `HashTable`. What should happen if the element isn't there, assuming you want your function to behave like built-in containers? Make it so."
   ]
  },
  {
   "cell_type": "code",
   "execution_count": 107,
   "metadata": {},
   "outputs": [
    {
     "name": "stdout",
     "output_type": "stream",
     "text": [
      "True\n",
      "2\n",
      "False\n",
      "1\n"
     ]
    }
   ],
   "source": [
    "h = HashTable(10)\n",
    "h.add(3.14)\n",
    "h.add((\"C-\",3,\"PO\"))\n",
    "print h.contains(3.14)\n",
    "print h.size\n",
    "h.remove(3.14)\n",
    "print h.contains(3.14)\n",
    "print h.size\n",
    "# h.remove(0) # what should this do?"
   ]
  },
  {
   "cell_type": "markdown",
   "metadata": {},
   "source": [
    "Should print:\n",
    "```\n",
    "True\n",
    "2\n",
    "False\n",
    "1\n",
    "```\n",
    "6) Time to overload some built-in Python functions and operators. Make `len` and `-=` work on your `HashTable`. For full credit, be concise."
   ]
  },
  {
   "cell_type": "code",
   "execution_count": 108,
   "metadata": {},
   "outputs": [
    {
     "name": "stdout",
     "output_type": "stream",
     "text": [
      "0\n",
      "2\n",
      "1\n"
     ]
    }
   ],
   "source": [
    "h = HashTable(10)\n",
    "print len(h)\n",
    "h.add(3.14)\n",
    "h.add((\"C-\",3,\"PO\"))\n",
    "print len(h)\n",
    "h-=3.14\n",
    "print len(h)"
   ]
  },
  {
   "cell_type": "markdown",
   "metadata": {},
   "source": [
    "Should print:\n",
    "```\n",
    "0\n",
    "2\n",
    "1\n",
    "```\n",
    "7) There are two other operators that are just begging to be overloaded. Do it. (No, I'm not going to tell you which. That's part of the question.)"
   ]
  },
  {
   "cell_type": "code",
   "execution_count": 109,
   "metadata": {
    "collapsed": true
   },
   "outputs": [],
   "source": [
    "# write a test that demonstrates successful overloading of these operators\n",
    "# indicate the intended output in comments"
   ]
  },
  {
   "cell_type": "markdown",
   "metadata": {},
   "source": [
    "8) Make your `HashTable` iterable. For full credit, be concise."
   ]
  },
  {
   "cell_type": "code",
   "execution_count": 110,
   "metadata": {},
   "outputs": [
    {
     "name": "stdout",
     "output_type": "stream",
     "text": [
      "2\n",
      "4\n",
      "6\n",
      "1\n",
      "[2, 4, 6, '1']\n"
     ]
    }
   ],
   "source": [
    "h = HashTable(10)\n",
    "h.add(\"1\")\n",
    "h.add(2)\n",
    "h.add(\"3\")\n",
    "h.add(4)\n",
    "h.add(5)\n",
    "h.add(6)\n",
    "h.remove(\"3\")\n",
    "h.remove(5)\n",
    "for i in h:\n",
    "    print i\n",
    "print list(h)"
   ]
  },
  {
   "cell_type": "markdown",
   "metadata": {},
   "source": [
    "Should print:\n",
    "```\n",
    "2\n",
    "4\n",
    "6\n",
    "1\n",
    "[2, 4, 6, '1']\n",
    "```\n",
    "or similar; order doesn't really matter."
   ]
  },
  {
   "cell_type": "markdown",
   "metadata": {},
   "source": [
    "9) Let's say our hash table's list of buckets is of length $n$ and our hash table actually stores only $m$ elements. On which does the time required to iterate through the hash table depend more: $m$ or $n$? "
   ]
  },
  {
   "cell_type": "markdown",
   "metadata": {},
   "source": []
  },
  {
   "cell_type": "markdown",
   "metadata": {},
   "source": [
    "When you're done, save this notebook (`Part II.ipynb`) and submit to CCLE → Final Exam → Part II.\n",
    " <html><head><style id=\"style-1-cropbar-clipper\">/* Copyright 2014 Evernote Corporation. All\n",
    "rights reserved. */\n",
    ".en-markup-crop-options {\n",
    "    top: 18px !important;\n",
    "    left: 50% !important;\n",
    "    margin-left: -100px !important;\n",
    "    width: 200px !important;\n",
    "    border: 2px rgba(255,255,255,.38) solid !important;\n",
    "    border-radius: 4px !important;\n",
    "}\n",
    ".en-markup-crop-options div div:first-of-type {\n",
    "    margin-left: 0px !important;\n",
    "}\n",
    "</style></head><body><pre style=\"word-wrap: break-word; white-space: pre-wrap;\">Allowed\n",
    "Resources\n",
    "I intend for the exam to assess how you would typically perform in a real-world problem solving\n",
    "scenario, which is why you will have access to many resources. The Internet is a big place, so\n",
    "sometimes in practice you can even find a relatively complete solution that you can copy, paste,\n",
    "and hack to meet your needs. This is not the case in general, however, so it would not be a\n",
    "realistic simulation if you could access partial or complete solutions online during the exam.\n",
    "While I have done my best to generate original problems, I also try to make them simple and\n",
    "interesting, which makes it more likely that they have been considered before. Therefore, I must\n",
    "place some restrictions on Internet use to eliminate the possibility of finding unrealistic help\n",
    "online.\n",
    "The following are allowed resources. If there is a resource that is not on this list that you\n",
    "think should be, let me know. (This document may be updated without notice before the exam.) If\n",
    "you get completely stuck during the exam and think you need another reference, ask and I'll\n",
    "consider the request.\n",
    "-- Allowed Resources --\n",
    "_Any_ hand-written notes\n",
    "Any \"Preparation\", \"Assignment\", \"Lecture\", or \"Tutorial\" document from CCLE\n",
    "Any official documentation from python.org\n",
    "Any official class/function references for the modules we have used\n",
    "The following tutorials/guides/examples are explicitly allowed.\n",
    "Tutorials Point: Python Exceptions (http://www.tutorialspoint.com/python/python_exceptions.htm)\n",
    "Tutorials Point: Object Oriented Python\n",
    "(http://www.tutorialspoint.com/python/python_classes_objects.htm)\n",
    "A Guide to Python's Magic Methods (http://minhhh.github.io/posts/a-guide-to-pythons-magic-\n",
    "methods)\n",
    "Python Practice Book: Iterators (http://anandology.com/python-practice-book/iterators.html)\n",
    "Tutorials Point: Python IO (http://www.tutorialspoint.com/python/python_files_io.htm)\n",
    "Python for Beginners: CSV Module (http://www.pythonforbeginners.com/systems-programming/using-\n",
    "the-csv-module-in-python/)\n",
    "RegexOne and Pythex (http://regexone.com/references/python, http://pythex.org/)\n",
    "PyQt5 Tutorial (http://zetcode.com/gui/pyqt5/)\n",
    "Getting Started with PyQt and Qt Designer (https://nikolak.com/pyqt-qt-designer-getting-\n",
    "started/)\n",
    "Alexa Custom Skills (https://developer.amazon.com/docs/custom-skills/understanding-custom-\n",
    "skills.html)\n",
    "Plotly User Guide (https://plot.ly/python/user-guide/)\n",
    "NLTK Book (http://www.nltk.org/book/)\n",
    "SymPy Tutorial (http://docs.sympy.org/latest/tutorial/intro.html#what-is-symbolic-computation)\n",
    "SciPy Lectures (http://www.scipy-lectures.org/intro/index.html)\n",
    "OpenCV Tutorials (http://docs.opencv.org/3.0-beta/doc/py_tutorials/py_tutorials.html)\n",
    "Scrapy Tutorial (http://doc.scrapy.org/en/1.0/intro/tutorial.html)\n",
    "Tutorials Point: Python Networking (https://www.tutorialspoint.com/python/python_networking.htm)\n",
    "Tutorials Point: Python Multithreading\n",
    "(https://www.tutorialspoint.com/python/python_multithreading.htm)\n",
    "scikit-learn Tutorials (http://scikit-learn.org/stable/tutorial/index.html)\n",
    "Please do not attempt to access anything besides the allowed resources without permission. But\n",
    "again, you are welcome to ask whether a material is allowed during the exam.\n",
    "-- Examples of resources not allowed --\n",
    "Digital or computer-printed assignment solution code (regardless of author)\n",
    "Digital or computer-printed quizzes or solutions\n",
    "Digital or computer-printed websites not allowed above, such as stackoverflow.com\n",
    "\n",
    "Digital or computer-printed websites not allowed above, such as stackoverflow.com\n",
    "Digital or computer-printed tutorials, even official module tutorials, not allowed above (e.g.\n",
    "https://docs.scipy.org/doc/scipy/reference/tutorial/)\n",
    "Videos</pre></body></html>\n",
    " "
   ]
  },
  {
   "cell_type": "code",
   "execution_count": null,
   "metadata": {},
   "outputs": [],
   "source": []
  }
 ],
 "metadata": {
  "kernelspec": {
   "display_name": "Python 2",
   "language": "python",
   "name": "python2"
  },
  "language_info": {
   "codemirror_mode": {
    "name": "ipython",
    "version": 2
   },
   "file_extension": ".py",
   "mimetype": "text/x-python",
   "name": "python",
   "nbconvert_exporter": "python",
   "pygments_lexer": "ipython2",
   "version": "2.7.14"
  }
 },
 "nbformat": 4,
 "nbformat_minor": 1
}
