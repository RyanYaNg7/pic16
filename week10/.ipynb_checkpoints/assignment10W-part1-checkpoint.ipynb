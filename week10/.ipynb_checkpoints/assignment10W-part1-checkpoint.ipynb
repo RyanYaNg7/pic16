{
 "cells": [
  {
   "cell_type": "code",
   "execution_count": 1,
   "metadata": {},
   "outputs": [],
   "source": [
    "import numpy as np\n",
    "from sklearn import svm\n",
    "import matplotlib.pyplot as plt\n",
    "import cv2 as cv"
   ]
  },
  {
   "cell_type": "code",
   "execution_count": 9,
   "metadata": {},
   "outputs": [
    {
     "data": {
      "text/plain": [
       "'/Users/Ryan/Desktop/week10/Assignment 10T'"
      ]
     },
     "execution_count": 9,
     "metadata": {},
     "output_type": "execute_result"
    }
   ],
   "source": [
    "import os\n",
    "os.chdir(\"/Users/Ryan/Desktop/week10/Assignment 10T\")\n",
    "os.getcwd()"
   ]
  },
  {
   "cell_type": "code",
   "execution_count": 103,
   "metadata": {},
   "outputs": [],
   "source": [
    "a = cv.imread('a.png')\n",
    "cv.namedWindow('a',cv.WINDOW_NORMAL)\n",
    "a_gray = cv.cvtColor(a, cv.COLOR_BGR2GRAY)\n",
    "ret, mask_a = cv.threshold(a_gray, 200, 255, 0)\n",
    "a2, contours, hierarchy = cv.findContours(mask_a, cv.RETR_TREE, cv.CHAIN_APPROX_SIMPLE)\n",
    "cv.drawContours(a, contours, 1, (0,0,255), 1)\n",
    "cv.imshow('a', a)\n",
    "cv.waitKey(0)\n",
    "cv.destroyAllWindows()"
   ]
  },
  {
   "cell_type": "code",
   "execution_count": 67,
   "metadata": {},
   "outputs": [
    {
     "data": {
      "text/plain": [
       "(4, 1, 2)"
      ]
     },
     "execution_count": 67,
     "metadata": {},
     "output_type": "execute_result"
    }
   ],
   "source": [
    "#the outermost contour of the whole picture\n",
    "contours[0].shape"
   ]
  },
  {
   "cell_type": "code",
   "execution_count": 124,
   "metadata": {},
   "outputs": [
    {
     "name": "stdout",
     "output_type": "stream",
     "text": [
      "52 92 2939 2968\n",
      "59 71 2944 2960\n"
     ]
    }
   ],
   "source": [
    "#calculate the bounding rectangle\n",
    "def findBound(i):\n",
    "    left = min(contours[i][:,0,0]) #the left most bounding index\n",
    "    right = max(contours[i][:,0,0]) #the right most bounding index\n",
    "    top = min(contours[i][:,0,1]) #the top most bounding index\n",
    "    bottom = max(contours[i][:,0,1]) #the bottom most bounding index\n",
    "    return (left, right, top, bottom)\n",
    "\n",
    "#contours[1], valid\n",
    "left, right, top, bottom = findBound(1)\n",
    "print left, right, top, bottom\n",
    "\n",
    "#contour[2], too small\n",
    "left, right, top, bottom = findBound(2)\n",
    "print left, right, top, bottom"
   ]
  },
  {
   "cell_type": "code",
   "execution_count": 130,
   "metadata": {},
   "outputs": [
    {
     "name": "stdout",
     "output_type": "stream",
     "text": [
      "1160\n",
      "192\n",
      "[3.6144e+05 1.1600e+03 1.9200e+02 9.1200e+02 0.0000e+00 1.2100e+02\n",
      " 0.0000e+00 1.0140e+03 1.6900e+02 4.0000e+00 1.1480e+03 1.6500e+02\n",
      " 0.0000e+00 4.0000e+00 1.1310e+03 2.0400e+02 1.2900e+03 2.1000e+02\n",
      " 0.0000e+00 8.5000e+02 1.5600e+02 1.0800e+03 1.6800e+02 1.2420e+03\n",
      " 2.5500e+02 1.1400e+03 2.1000e+02 1.0440e+03 1.9200e+02 9.7200e+02\n",
      " 1.8200e+02 4.0000e+00 1.2300e+03 1.4000e+02 1.0000e+01 8.7500e+02\n",
      " 4.0000e+00 1.2400e+03 9.7500e+02 1.0000e+00 9.9000e+01 1.3200e+03\n",
      " 1.8000e+02 1.1160e+03 2.0400e+02 4.0000e+00 8.5800e+02 1.3000e+02\n",
      " 1.0850e+03 1.6500e+02 1.1700e+03 2.2100e+02 1.2000e+01 1.3300e+03\n",
      " 1.6450e+03]\n"
     ]
    }
   ],
   "source": [
    "#area of rectangle containing the contour\n",
    "def area(left, right, top, bottom):\n",
    "    return (right-left) * (bottom - top)\n",
    "\n",
    "print area(*findBound(1))\n",
    "print area(*findBound(2))\n",
    "\n",
    "areas = np.zeros(len(contours))\n",
    "for i in range(len(contours)):\n",
    "    areas[i] = area(*findBound(i))\n",
    " \n",
    "\n",
    "\n",
    "#areas[areas<500] = -1\n",
    "#areas[areas>1500] = -1\n",
    "#areas[areas>-1].shape\n",
    "print areas"
   ]
  },
  {
   "cell_type": "code",
   "execution_count": 79,
   "metadata": {},
   "outputs": [
    {
     "ename": "SyntaxError",
     "evalue": "can't assign to operator (<ipython-input-79-dc3a8fca65b2>, line 2)",
     "output_type": "error",
     "traceback": [
      "\u001b[0;36m  File \u001b[0;32m\"<ipython-input-79-dc3a8fca65b2>\"\u001b[0;36m, line \u001b[0;32m2\u001b[0m\n\u001b[0;31m    sub-image = []\u001b[0m\n\u001b[0;31mSyntaxError\u001b[0m\u001b[0;31m:\u001b[0m can't assign to operator\n"
     ]
    }
   ],
   "source": [
    "#cleaning and filtering the contours\n",
    "sub_image = []\n",
    "for contour in contours:\n",
    "    #calculate the bounding rectangle\n",
    "    left = min(contour[:,0,0])\n",
    "    right = max(contour[:,0,0])\n",
    "    top = min(contour[:,0,1])\n",
    "    bottom = max(contour[:,0,1])\n",
    "    \n",
    "    #calculate the area of the bounding rectangle\n",
    "    area = (right - left) * (bottom - top)\n",
    "    \n",
    "    #filter on the area, make a rectangle of the ok's, and put the corresponding sub-image in a list\n",
    "    if area > toosmall and area < toolarge:\n",
    "        cv.rectangle(a, (left, top), (right, bottom), 255, 2)\n",
    "        "
   ]
  },
  {
   "cell_type": "code",
   "execution_count": 81,
   "metadata": {},
   "outputs": [
    {
     "data": {
      "text/plain": [
       "(3013, 121, 3)"
      ]
     },
     "execution_count": 81,
     "metadata": {},
     "output_type": "execute_result"
    }
   ],
   "source": []
  },
  {
   "cell_type": "code",
   "execution_count": null,
   "metadata": {},
   "outputs": [],
   "source": [
    "a[]"
   ]
  }
 ],
 "metadata": {
  "kernelspec": {
   "display_name": "Python 2",
   "language": "python",
   "name": "python2"
  },
  "language_info": {
   "codemirror_mode": {
    "name": "ipython",
    "version": 2
   },
   "file_extension": ".py",
   "mimetype": "text/x-python",
   "name": "python",
   "nbconvert_exporter": "python",
   "pygments_lexer": "ipython2",
   "version": "2.7.14"
  }
 },
 "nbformat": 4,
 "nbformat_minor": 2
}
