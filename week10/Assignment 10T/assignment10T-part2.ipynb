{
 "cells": [
  {
   "cell_type": "code",
   "execution_count": 43,
   "metadata": {},
   "outputs": [],
   "source": [
    "#!/usr/bin/env python2\n",
    "# -*- coding: utf-8 -*-\n",
    "\"\"\"\n",
    "Created on Sun Mar 18 18:30:23 2018\n",
    "\n",
    "@author: Ryan\n",
    "\"\"\"\n",
    "#%%\n",
    "import numpy as np\n",
    "from sklearn import svm\n",
    "import matplotlib.pyplot as plt\n",
    "import cv2 as cv\n",
    "\n",
    "import os\n",
    "os.chdir(\"/Users/Ryan/Desktop/week10/Assignment 10T\")\n",
    "os.getcwd()\n",
    "\n",
    "#%%\n",
    "def separate(a, thresh_bright, loarea, uparea):\n",
    "    \n",
    "    #draw contours\n",
    "    a_gray = cv.cvtColor(a, cv.COLOR_BGR2GRAY)\n",
    "    ret, mask_a = cv.threshold(a_gray, thresh_bright, 255, 0)\n",
    "    a2, contours, hierarchy = cv.findContours(mask_a, cv.RETR_TREE, cv.CHAIN_APPROX_SIMPLE)\n",
    "    cv.drawContours(a, contours, -1, (0,0,255), 1)\n",
    "    cv.namedWindow('a',cv.WINDOW_NORMAL)\n",
    "    cv.imshow('a', a)\n",
    "    cv.waitKey(0)\n",
    "    cv.destroyAllWindows()\n",
    "    \n",
    "        #cleaning and filtering the contours\n",
    "    sub_image = []\n",
    "    for contour in contours:\n",
    "        #calculate the bounding rectangle\n",
    "        #left = min(contour[:,0,0])#right = max(contour[:,0,0])#top = min(contour[:,0,1])#bottom = max(contour[:,0,1])\n",
    "        x,y,w,h = cv.boundingRect(contour)\n",
    "        #calculate the area of the bounding rectangle\n",
    "        area = w*h\n",
    "        \n",
    "        #filter on the area, make a rectangle of the ok's, and put the corresponding sub-image in a list\n",
    "        if area > loarea and area < uparea:\n",
    "            cv.rectangle(a, (x, y), (x+w, y+h), (255,255,255), 2)\n",
    "            sub_image.append(a[y:y+h, x:x+w])\n",
    "            \n",
    "    cv.namedWindow('img', cv.WINDOW_NORMAL)\n",
    "    cv.imshow('img', a)\n",
    "    cv.waitKey(0)\n",
    "    cv.destroyAllWindows()\n",
    "    \n",
    "    sub_image = np.array(sub_image)\n",
    "    \n",
    "    for im in sub_image:\n",
    "        cv.imshow('img', im)\n",
    "        cv.waitKey(400)\n",
    "        cv.destroyAllWindows()\n",
    "    \n",
    "    def processIm(im):\n",
    "        im = cv.cvtColor(im, cv.COLOR_BGR2GRAY)\n",
    "        return cv.resize(im, (10,10), fx=0, fy=0, interpolation = cv.INTER_CUBIC)\n",
    "    \n",
    "    data = [processIm(im) for im in sub_image]\n",
    "    data = np.array(data)\n",
    "    return data\n",
    "\n",
    "#%%\n",
    "a = cv.imread('a.png')\n",
    "data_a = separate(a, 200, 500, 2000)\n",
    "target_a = np.zeros(len(data_a))\n",
    "#%% for z\n",
    "z = cv.imread('z.png')\n",
    "data_z = separate(z, 150, 0, 3000)\n",
    "target_z = np.zeros(len(data_z))\n",
    "\n",
    "#%% for m\n",
    "m = cv.imread('m.png')\n",
    "data_m = separate(m, 150, 0, 3000)\n",
    "target_m = np.ones(len(data_m))\n",
    "\n",
    "#%% for y\n",
    "y = cv.imread('y.png')\n",
    "data_y = separate(y, 150, 1300, 3000)\n",
    "target_y = np.ones(len(data_y)) + 1\n",
    "\n",
    "data = np.vstack((data_z, data_m, data_y))\n",
    "target = np.hstack((target_z, target_m, target_y))\n",
    "\n",
    "#%% partition training and testing data\n"
   ]
  },
  {
   "cell_type": "code",
   "execution_count": 34,
   "metadata": {},
   "outputs": [
    {
     "data": {
      "text/plain": [
       "dtype('uint8')"
      ]
     },
     "execution_count": 34,
     "metadata": {},
     "output_type": "execute_result"
    }
   ],
   "source": [
    "y.dtype"
   ]
  },
  {
   "cell_type": "code",
   "execution_count": 77,
   "metadata": {},
   "outputs": [],
   "source": [
    "def partition(data, target, p):\n",
    "    l = len(data)\n",
    "    print l\n",
    "    n = int(l*p)\n",
    "    print n\n",
    "    train_i = np.random.choice(l, n, False)\n",
    "    all_i = np.arange(l)\n",
    "    all_i[train_i] = -1\n",
    "    test_i = all_i[all_i > -1]\n",
    "\n",
    "    train_data = np.reshape(data[train_i], (n, -1))\n",
    "    train_target = target[train_i]\n",
    "    test_data = np.reshape(data[test_i], (l-n, -1))\n",
    "    test_target = target[test_i]\n",
    "    \n",
    "    return train_data, train_target, test_data, test_target\n"
   ]
  },
  {
   "cell_type": "code",
   "execution_count": 78,
   "metadata": {},
   "outputs": [
    {
     "name": "stdout",
     "output_type": "stream",
     "text": [
      "44\n",
      "26\n"
     ]
    },
    {
     "data": {
      "text/plain": [
       "LinearSVC(C=1.0, class_weight=None, dual=True, fit_intercept=True,\n",
       "     intercept_scaling=1, loss='squared_hinge', max_iter=1000,\n",
       "     multi_class='ovr', penalty='l2', random_state=None, tol=0.0001,\n",
       "     verbose=0)"
      ]
     },
     "execution_count": 78,
     "metadata": {},
     "output_type": "execute_result"
    }
   ],
   "source": [
    "train_data, train_target, test_data, test_target = partition(data, target, 0.6)\n",
    "from sklearn import svm\n",
    "clf = svm.LinearSVC()\n",
    "clf.fit(train_data, train_target)"
   ]
  },
  {
   "cell_type": "code",
   "execution_count": 82,
   "metadata": {},
   "outputs": [
    {
     "name": "stdout",
     "output_type": "stream",
     "text": [
      "[0. 0. 0. 0. 0. 1. 1. 1. 1. 1. 1. 2. 2. 2. 2. 2. 2. 2.]\n",
      "[0. 0. 0. 0. 0. 1. 1. 1. 1. 1. 1. 2. 2. 2. 2. 2. 2. 2.]\n"
     ]
    },
    {
     "data": {
      "text/plain": [
       "array([ True,  True,  True,  True,  True,  True,  True,  True,  True,\n",
       "        True,  True,  True,  True,  True,  True,  True,  True,  True])"
      ]
     },
     "execution_count": 82,
     "metadata": {},
     "output_type": "execute_result"
    }
   ],
   "source": [
    "predict_result = clf.predict(test_data)\n",
    "print predict_result\n",
    "\n",
    "print test_target\n",
    "predict_result == test_target"
   ]
  },
  {
   "cell_type": "code",
   "execution_count": 83,
   "metadata": {},
   "outputs": [],
   "source": [
    "accuracy = sum(predict_result==test_target)*1.0/(len(test_data))"
   ]
  },
  {
   "cell_type": "code",
   "execution_count": 84,
   "metadata": {},
   "outputs": [
    {
     "data": {
      "text/plain": [
       "1.0"
      ]
     },
     "execution_count": 84,
     "metadata": {},
     "output_type": "execute_result"
    }
   ],
   "source": [
    "accuracy"
   ]
  },
  {
   "cell_type": "code",
   "execution_count": 8,
   "metadata": {},
   "outputs": [
    {
     "name": "stdout",
     "output_type": "stream",
     "text": [
      "(44, 10, 10)\n",
      "(44,)\n"
     ]
    }
   ],
   "source": [
    "print data.shape\n",
    "print target.shape"
   ]
  },
  {
   "cell_type": "code",
   "execution_count": 46,
   "metadata": {},
   "outputs": [],
   "source": [
    "a = cv.imread('a.png')"
   ]
  },
  {
   "cell_type": "code",
   "execution_count": 47,
   "metadata": {},
   "outputs": [
    {
     "data": {
      "text/plain": [
       "dtype('uint8')"
      ]
     },
     "execution_count": 47,
     "metadata": {},
     "output_type": "execute_result"
    }
   ],
   "source": [
    "a.dtype"
   ]
  },
  {
   "cell_type": "code",
   "execution_count": null,
   "metadata": {},
   "outputs": [],
   "source": []
  }
 ],
 "metadata": {
  "kernelspec": {
   "display_name": "Python 2",
   "language": "python",
   "name": "python2"
  },
  "language_info": {
   "codemirror_mode": {
    "name": "ipython",
    "version": 2
   },
   "file_extension": ".py",
   "mimetype": "text/x-python",
   "name": "python",
   "nbconvert_exporter": "python",
   "pygments_lexer": "ipython2",
   "version": "2.7.14"
  }
 },
 "nbformat": 4,
 "nbformat_minor": 2
}
