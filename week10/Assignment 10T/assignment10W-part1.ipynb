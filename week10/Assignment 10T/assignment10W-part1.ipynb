{
 "cells": [
  {
   "cell_type": "code",
   "execution_count": 23,
   "metadata": {},
   "outputs": [],
   "source": [
    "import numpy as np\n",
    "from sklearn import svm\n",
    "import matplotlib.pyplot as plt\n",
    "import cv2 as cv"
   ]
  },
  {
   "cell_type": "code",
   "execution_count": 59,
   "metadata": {},
   "outputs": [
    {
     "data": {
      "text/plain": [
       "'/Users/Ryan/Desktop/week10/Assignment 10T'"
      ]
     },
     "execution_count": 59,
     "metadata": {},
     "output_type": "execute_result"
    }
   ],
   "source": [
    "import os\n",
    "os.chdir(\"/Users/Ryan/Desktop/week10/Assignment 10T\")\n",
    "os.getcwd()"
   ]
  },
  {
   "cell_type": "code",
   "execution_count": 73,
   "metadata": {},
   "outputs": [],
   "source": [
    "#draw contours\n",
    "a = cv.imread('a.png')\n",
    "cv.namedWindow('a',cv.WINDOW_NORMAL)\n",
    "a_gray = cv.cvtColor(a, cv.COLOR_BGR2GRAY)\n",
    "ret, mask_a = cv.threshold(a_gray, 200, 255, 0)\n",
    "a2, contours, hierarchy = cv.findContours(mask_a, cv.RETR_TREE, cv.CHAIN_APPROX_SIMPLE)\n",
    "cv.drawContours(a, contours, -1, (0,0,255), 1)\n",
    "cv.imshow('a', a)\n",
    "cv.waitKey(0)\n",
    "cv.destroyAllWindows()"
   ]
  },
  {
   "cell_type": "code",
   "execution_count": 61,
   "metadata": {},
   "outputs": [],
   "source": [
    "#draw contours for z\n",
    "a = cv.imread('z.png')\n",
    "cv.namedWindow('a',cv.WINDOW_NORMAL)\n",
    "a_gray = cv.cvtColor(a, cv.COLOR_BGR2GRAY)\n",
    "ret, mask_a = cv.threshold(a_gray, 150, 255, 0)\n",
    "a2, contours, hierarchy = cv.findContours(mask_a, cv.RETR_TREE, cv.CHAIN_APPROX_SIMPLE)\n",
    "cv.drawContours(a, contours, -1, (0,0,255), 1)\n",
    "cv.imshow('a', a)\n",
    "cv.waitKey(0)\n",
    "cv.destroyAllWindows()"
   ]
  },
  {
   "cell_type": "code",
   "execution_count": 75,
   "metadata": {},
   "outputs": [],
   "source": [
    "#draw contours for m\n",
    "a = cv.imread('m.png')\n",
    "cv.namedWindow('a',cv.WINDOW_NORMAL)\n",
    "a_gray = cv.cvtColor(a, cv.COLOR_BGR2GRAY)\n",
    "ret, mask_a = cv.threshold(a_gray, 150, 255, 0)\n",
    "a2, contours, hierarchy = cv.findContours(mask_a, cv.RETR_TREE, cv.CHAIN_APPROX_SIMPLE)\n",
    "cv.drawContours(a, contours, -1, (0,0,255), 1)\n",
    "cv.imshow('a', a)\n",
    "cv.waitKey(0)\n",
    "cv.destroyAllWindows()"
   ]
  },
  {
   "cell_type": "code",
   "execution_count": 108,
   "metadata": {},
   "outputs": [],
   "source": [
    "#draw contours for y\n",
    "a = cv.imread('y.png')\n",
    "cv.namedWindow('a',cv.WINDOW_NORMAL)\n",
    "a_gray = cv.cvtColor(a, cv.COLOR_BGR2GRAY)\n",
    "ret, mask_a = cv.threshold(a_gray, 130, 255, 0)\n",
    "a2, contours, hierarchy = cv.findContours(mask_a, cv.RETR_TREE, cv.CHAIN_APPROX_SIMPLE)\n",
    "cv.drawContours(a, contours, 10, (0,0,255), 1)\n",
    "a = cv.resize(a, None, fx=0.5, fy=0.5, interpolation = cv.INTER_CUBIC)\n",
    "cv.imshow('a', a)\n",
    "cv.waitKey(0)\n",
    "cv.destroyAllWindows()"
   ]
  },
  {
   "cell_type": "code",
   "execution_count": 101,
   "metadata": {},
   "outputs": [
    {
     "data": {
      "text/plain": [
       "17"
      ]
     },
     "execution_count": 101,
     "metadata": {},
     "output_type": "execute_result"
    }
   ],
   "source": [
    "len(contours)"
   ]
  },
  {
   "cell_type": "code",
   "execution_count": 10,
   "metadata": {},
   "outputs": [
    {
     "data": {
      "text/plain": [
       "(2, 1, 2)"
      ]
     },
     "execution_count": 10,
     "metadata": {},
     "output_type": "execute_result"
    }
   ],
   "source": [
    "#the outermost contour of the whole picture\n",
    "contours[0].shape"
   ]
  },
  {
   "cell_type": "code",
   "execution_count": 11,
   "metadata": {},
   "outputs": [
    {
     "name": "stdout",
     "output_type": "stream",
     "text": [
      "9 9 1335 1335\n",
      "18 19 1298 1298\n"
     ]
    }
   ],
   "source": [
    "#calculate the bounding rectangle\n",
    "def findBound(i):\n",
    "    left = min(contours[i][:,0,0]) #the left most bounding index\n",
    "    right = max(contours[i][:,0,0]) #the right most bounding index\n",
    "    top = min(contours[i][:,0,1]) #the top most bounding index\n",
    "    bottom = max(contours[i][:,0,1]) #the bottom most bounding index\n",
    "    return (left, right, top, bottom)\n",
    "\n",
    "#contours[1], valid\n",
    "left, right, top, bottom = findBound(1)\n",
    "print left, right, top, bottom\n",
    "\n",
    "#contour[2], too small\n",
    "left, right, top, bottom = findBound(2)\n",
    "print left, right, top, bottom"
   ]
  },
  {
   "cell_type": "code",
   "execution_count": 13,
   "metadata": {},
   "outputs": [],
   "source": [
    "np.set_printoptions(suppress=True)"
   ]
  },
  {
   "cell_type": "code",
   "execution_count": 109,
   "metadata": {},
   "outputs": [
    {
     "name": "stdout",
     "output_type": "stream",
     "text": [
      "2088\n",
      "1581\n"
     ]
    },
    {
     "data": {
      "text/plain": [
       "array([173140.,   2088.,   1581.,   2135.,   2048.,   2240.,   2040.,\n",
       "         2450.,   2178.,   2170.,    600.,   1044.,   2080.,   2109.,\n",
       "         2412.,   1995.,   1975.])"
      ]
     },
     "execution_count": 109,
     "metadata": {},
     "output_type": "execute_result"
    }
   ],
   "source": [
    "#area of rectangle containing the contour\n",
    "def area(left, right, top, bottom):\n",
    "    return (right-left) * (bottom - top)\n",
    "\n",
    "print area(*findBound(1))\n",
    "print area(*findBound(2))\n",
    "\n",
    "areas = np.zeros(len(contours))\n",
    "for i in range(len(contours)):\n",
    "    areas[i] = area(*findBound(i))\n",
    " \n",
    "\n",
    "\n",
    "#areas[areas<500] = -1\n",
    "#areas[areas>2000] = -1\n",
    "#areas[areas>-1].shape\n",
    "areas"
   ]
  },
  {
   "cell_type": "code",
   "execution_count": 39,
   "metadata": {},
   "outputs": [],
   "source": [
    "#cleaning and filtering the contours\n",
    "sub_image = []\n",
    "for contour in contours:\n",
    "    #calculate the bounding rectangle\n",
    "    #left = min(contour[:,0,0])#right = max(contour[:,0,0])#top = min(contour[:,0,1])#bottom = max(contour[:,0,1])\n",
    "    x,y,w,h = cv.boundingRect(contour)\n",
    "    #calculate the area of the bounding rectangle\n",
    "    area = w*h\n",
    "    \n",
    "    #filter on the area, make a rectangle of the ok's, and put the corresponding sub-image in a list\n",
    "    if area > 500 and area < 2000:\n",
    "        cv.rectangle(a, (x, y), (x+w, y+h), (255,255,255), 2)\n",
    "        sub_image.append(a[y:y+h, x:x+w])\n",
    "        \n",
    "cv.namedWindow('a', cv.WINDOW_NORMAL)\n",
    "cv.imshow('a', a)\n",
    "cv.waitKey(0)\n",
    "cv.destroyAllWindows()"
   ]
  },
  {
   "cell_type": "code",
   "execution_count": 78,
   "metadata": {},
   "outputs": [],
   "source": [
    "#cleaning and filtering the contours for z, m, \n",
    "sub_image = []\n",
    "for contour in contours:\n",
    "    #calculate the bounding rectangle\n",
    "    #left = min(contour[:,0,0])#right = max(contour[:,0,0])#top = min(contour[:,0,1])#bottom = max(contour[:,0,1])\n",
    "    x,y,w,h = cv.boundingRect(contour)\n",
    "    #calculate the area of the bounding rectangle\n",
    "    area = w*h\n",
    "    \n",
    "    #filter on the area, make a rectangle of the ok's, and put the corresponding sub-image in a list\n",
    "    if area< 3000 and area > 0:\n",
    "        cv.rectangle(a, (x, y), (x+w, y+h), (255,255,255), 2)\n",
    "        sub_image.append(a[y:y+h, x:x+w])\n",
    "        \n",
    "cv.namedWindow('a', cv.WINDOW_NORMAL)\n",
    "cv.imshow('a', a)\n",
    "cv.waitKey(0)\n",
    "cv.destroyAllWindows()"
   ]
  },
  {
   "cell_type": "code",
   "execution_count": 79,
   "metadata": {},
   "outputs": [],
   "source": [
    "sub_image = np.array(sub_image)"
   ]
  },
  {
   "cell_type": "code",
   "execution_count": 80,
   "metadata": {},
   "outputs": [],
   "source": [
    "for im in sub_image:\n",
    "    cv.imshow('a', im)\n",
    "    cv.waitKey(250)\n",
    "    cv.destroyAllWindows()"
   ]
  },
  {
   "cell_type": "code",
   "execution_count": 81,
   "metadata": {},
   "outputs": [],
   "source": [
    "def processIm(im):\n",
    "    im = cv.cvtColor(im, cv.COLOR_BGR2GRAY)\n",
    "    return cv.resize(im, (10,10), fx=0, fy=0, interpolation = cv.INTER_CUBIC)"
   ]
  },
  {
   "cell_type": "code",
   "execution_count": 82,
   "metadata": {},
   "outputs": [],
   "source": [
    "data = [processIm(im) for im in sub_image]"
   ]
  },
  {
   "cell_type": "code",
   "execution_count": 83,
   "metadata": {},
   "outputs": [
    {
     "data": {
      "text/plain": [
       "(15, 10, 10)"
      ]
     },
     "execution_count": 83,
     "metadata": {},
     "output_type": "execute_result"
    }
   ],
   "source": [
    "data = np.array(data)\n",
    "data.shape"
   ]
  },
  {
   "cell_type": "code",
   "execution_count": 84,
   "metadata": {},
   "outputs": [],
   "source": [
    "target = np.zeros(23)"
   ]
  },
  {
   "cell_type": "code",
   "execution_count": 85,
   "metadata": {},
   "outputs": [
    {
     "data": {
      "text/plain": [
       "array([0., 0., 0., 0., 0., 0., 0., 0., 0., 0., 0., 0., 0., 0., 0., 0., 0.,\n",
       "       0., 0., 0., 0., 0., 0.])"
      ]
     },
     "execution_count": 85,
     "metadata": {},
     "output_type": "execute_result"
    }
   ],
   "source": [
    "target"
   ]
  },
  {
   "cell_type": "code",
   "execution_count": 119,
   "metadata": {},
   "outputs": [],
   "source": []
  },
  {
   "cell_type": "code",
   "execution_count": null,
   "metadata": {},
   "outputs": [],
   "source": []
  },
  {
   "cell_type": "code",
   "execution_count": null,
   "metadata": {},
   "outputs": [],
   "source": []
  }
 ],
 "metadata": {
  "kernelspec": {
   "display_name": "Python 2",
   "language": "python",
   "name": "python2"
  },
  "language_info": {
   "codemirror_mode": {
    "name": "ipython",
    "version": 2
   },
   "file_extension": ".py",
   "mimetype": "text/x-python",
   "name": "python",
   "nbconvert_exporter": "python",
   "pygments_lexer": "ipython2",
   "version": "2.7.14"
  }
 },
 "nbformat": 4,
 "nbformat_minor": 2
}
