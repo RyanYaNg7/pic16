{
 "cells": [
  {
   "cell_type": "markdown",
   "metadata": {},
   "source": [
    "# PIC 16 - Discussion 2T\n",
    "# 01/16/2018 Tuesday"
   ]
  },
  {
   "cell_type": "markdown",
   "metadata": {},
   "source": [
    "# MS 2330\n",
    "# T: 12 - 1\n",
    "# R: 1 - 2\n"
   ]
  },
  {
   "cell_type": "markdown",
   "metadata": {},
   "source": [
    "---\n",
    "# Problem\n",
    "\n",
    "Complete a function so that it prints the addition of **a** and **b**."
   ]
  },
  {
   "cell_type": "code",
   "execution_count": 1,
   "metadata": {},
   "outputs": [
    {
     "name": "stdout",
     "output_type": "stream",
     "text": [
      "4\n"
     ]
    }
   ],
   "source": [
    "def print_add(a = 1, b = 2):\n",
    "    print a + b\n",
    "\n",
    "print_add(1,3)"
   ]
  },
  {
   "cell_type": "markdown",
   "metadata": {},
   "source": [
    "# Problem\n",
    "Use **lambda** to write the same function **print_add**."
   ]
  },
  {
   "cell_type": "code",
   "execution_count": 2,
   "metadata": {},
   "outputs": [
    {
     "data": {
      "text/plain": [
       "4"
      ]
     },
     "execution_count": 2,
     "metadata": {},
     "output_type": "execute_result"
    }
   ],
   "source": [
    "# Use lambda\n",
    "print_add = lambda a=1,b=2: a+b\n",
    "\n",
    "print_add(1,3)"
   ]
  },
  {
   "cell_type": "markdown",
   "metadata": {},
   "source": [
    "# About args"
   ]
  },
  {
   "cell_type": "code",
   "execution_count": 3,
   "metadata": {},
   "outputs": [
    {
     "name": "stdout",
     "output_type": "stream",
     "text": [
      "The number of parameters given: 3\n",
      "('param', 1, 1.5)\n"
     ]
    }
   ],
   "source": [
    "def some_function(*args):\n",
    "    print \"The number of parameters given:\", len(args)\n",
    "    print args\n",
    "    \n",
    "some_function('param', 1, 1.5)"
   ]
  },
  {
   "cell_type": "markdown",
   "metadata": {},
   "source": [
    "# Problem\n",
    "\n",
    "Complete **show_days** function to return the number of days in a specific month.\n",
    "\n",
    "**Example**\n",
    "\n",
    "```\n",
    "show_days(1)\n",
    "\n",
    "output: 31\n",
    "\n",
    "show_days(2)\n",
    "\n",
    "output: 28\n",
    "```"
   ]
  },
  {
   "cell_type": "code",
   "execution_count": 4,
   "metadata": {},
   "outputs": [
    {
     "name": "stdout",
     "output_type": "stream",
     "text": [
      "30\n"
     ]
    }
   ],
   "source": [
    "def show_days(month):\n",
    "    days_in_month = [31,28,31,30,31,30,31,31,30,31,30,31]\n",
    "\n",
    "    print days_in_month[month-1]\n",
    "    \n",
    "show_days(4) # The output must be 30"
   ]
  },
  {
   "cell_type": "markdown",
   "metadata": {},
   "source": [
    "# Problem\n",
    "Input: **30** \n",
    "\n",
    "Output: **\"4 week(s) and 2 day(s)\"**"
   ]
  },
  {
   "cell_type": "code",
   "execution_count": 2,
   "metadata": {},
   "outputs": [
    {
     "name": "stdout",
     "output_type": "stream",
     "text": [
      "4 week(s) and 2 day(s)\n"
     ]
    }
   ],
   "source": [
    "def weeks_and_days(days):\n",
    "    # print \"%d week(s) and %d day(s)\" % (days/7, days%7)  # 30/7. gives a float\n",
    "    print \"{} week(s) and {} day(s)\".format(days/7, days%7)\n",
    "    \n",
    "weeks_and_days(30)"
   ]
  },
  {
   "cell_type": "markdown",
   "metadata": {},
   "source": [
    "# Problem\n",
    "0 <= score < 20\t  **Terrible**\n",
    " \n",
    "20 <= score < 40  **Bad**\n",
    "\n",
    "40 <= score < 60  **OK**\n",
    "\n",
    "60 <= score < 80\t**Good**\n",
    "\n",
    "80 <= score <= 100\t**Excellent**\n",
    "\n",
    "else **Wrong Input**"
   ]
  },
  {
   "cell_type": "code",
   "execution_count": 14,
   "metadata": {},
   "outputs": [
    {
     "name": "stdout",
     "output_type": "stream",
     "text": [
      "OK\n"
     ]
    }
   ],
   "source": [
    "def check_score(score):\n",
    "    if 0<=score<20:\n",
    "        print \"Terrible\"\n",
    "    elif 20<=score<40:\n",
    "        print \"Bad\"\n",
    "    elif 40<=score<60:\n",
    "        print \"OK\"\n",
    "    elif 60<=score<80:\n",
    "        print \"Good\"\n",
    "    elif 80<=score<=100:\n",
    "        print \"Excellent\"\n",
    "    else:\n",
    "        print \"Wrong Input\"\n",
    "        \n",
    "check_score(45) # prints OK"
   ]
  },
  {
   "cell_type": "markdown",
   "metadata": {},
   "source": [
    "\n",
    "# Sorted function"
   ]
  },
  {
   "cell_type": "code",
   "execution_count": 24,
   "metadata": {
    "scrolled": true
   },
   "outputs": [
    {
     "name": "stdout",
     "output_type": "stream",
     "text": [
      "['a', 'b', 'c']\n",
      "['c', 'a']\n"
     ]
    }
   ],
   "source": [
    "print sorted([\"b\",\"c\",\"a\"])\n",
    "print sorted([\"b\",\"c\",\"a\"])[::-2]"
   ]
  },
  {
   "cell_type": "code",
   "execution_count": 22,
   "metadata": {},
   "outputs": [
    {
     "name": "stdout",
     "output_type": "stream",
     "text": [
      "[1, 2, 3, 3, 5, 6, 7]\n",
      "[7, 6, 5, 3, 3, 2, 1]\n",
      "[7, 6, 5, 3, 3, 2, 1]\n",
      "[1, 6, 7, 2, 3, 5, 3]\n",
      "[1, 2, 3, 3, 5, 6, 7]\n"
     ]
    }
   ],
   "source": [
    "a = [1,6,7,2,3,5,3]\n",
    "\n",
    "print sorted(a)\n",
    "print sorted(a)[::-1]\n",
    "print sorted(a, reverse=True)\n",
    "print a\n",
    "a.sort()  # sort changes the original list\n",
    "print a "
   ]
  },
  {
   "cell_type": "code",
   "execution_count": 25,
   "metadata": {},
   "outputs": [
    {
     "name": "stdout",
     "output_type": "stream",
     "text": [
      "['123f', 'asdf3', 'bsdfe']\n",
      "['asdf3', 'bsdfe', '123f']\n"
     ]
    }
   ],
   "source": [
    "c = \"asdf3\"\n",
    "b = \"bsdfe\"\n",
    "a = \"123f\"\n",
    "\n",
    "print sorted([a,b,c])\n",
    "print sorted([a,b,c], key = lambda s: s[-1])"
   ]
  },
  {
   "cell_type": "markdown",
   "metadata": {
    "collapsed": true
   },
   "source": [
    "# About Dictionary"
   ]
  },
  {
   "cell_type": "code",
   "execution_count": 26,
   "metadata": {},
   "outputs": [
    {
     "name": "stdout",
     "output_type": "stream",
     "text": [
      "1\n",
      "key: PIC 16, value: 1\n",
      "key: aaa, value: 4\n",
      "key: Hello, value: 2\n",
      "key: efee, value: 5\n",
      "key: MATH 1, value: 3\n"
     ]
    }
   ],
   "source": [
    "dic = {\"PIC 16\": 1, \"Hello\": 2, \"MATH 1\": 3, \"aaa\": 4, \"efee\": 5}\n",
    "\n",
    "print dic[\"PIC 16\"]\n",
    "\n",
    "for i in dic:\n",
    "    print \"key: {}, value: {}\".format(i, dic[i])"
   ]
  },
  {
   "cell_type": "markdown",
   "metadata": {},
   "source": [
    "# Problem\n",
    "Write down a **for loop** that prints out the following\n",
    "\n",
    "```\n",
    "title: Rubber Soul, year: 1965\n",
    "title: Magical Mystery Tour, year: 1967\n",
    "title: Sgt. Pepper's Lonely Hearts Club Band, year: 1967\n",
    "title: Revolver, year: 1966\n",
    "title: The Beatles, year: 1968\n",
    "title: With the Beatles, year: 1963\n",
    "title: Beatles for Sale, year: 1964\n",
    "title: Yellow Submarine, year: 1969\n",
    "title: A Hard Day's Night, year: 1964\n",
    "title: Help, year: 1965\n",
    "title: Let It Be, year: 1970\n",
    "title: Abbey Road, year: 1969\n",
    "title: Twist and Shout, year: 1964\n",
    "title: Please Please Me, year: 1963\n",
    "```"
   ]
  },
  {
   "cell_type": "code",
   "execution_count": 9,
   "metadata": {},
   "outputs": [
    {
     "name": "stdout",
     "output_type": "stream",
     "text": [
      "title: Rubber Soul, year: 1965\n",
      "title: Magical Mystery Tour, year: 1967\n",
      "title: Sgt. Pepper's Lonely Hearts Club Band, year: 1967\n",
      "title: Revolver, year: 1966\n",
      "title: The Beatles, year: 1968\n",
      "title: With the Beatles, year: 1963\n",
      "title: Beatles for Sale, year: 1964\n",
      "title: Yellow Submarine, year: 1969\n",
      "title: A Hard Day's Night, year: 1964\n",
      "title: Help, year: 1965\n",
      "title: Let It Be, year: 1970\n",
      "title: Abbey Road, year: 1969\n",
      "title: Twist and Shout, year: 1964\n",
      "title: Please Please Me, year: 1963\n"
     ]
    }
   ],
   "source": [
    "Beatles_Discography = {\"Please Please Me\": 1963, \"With the Beatles\": 1963, \n",
    "    \"A Hard Day's Night\": 1964, \"Beatles for Sale\": 1964, \"Twist and Shout\": 1964,\n",
    "    \"Help\": 1965, \"Rubber Soul\": 1965, \"Revolver\": 1966,\n",
    "    \"Sgt. Pepper's Lonely Hearts Club Band\": 1967,\n",
    "    \"Magical Mystery Tour\": 1967, \"The Beatles\": 1968,\n",
    "    \"Yellow Submarine\": 1969 ,'Abbey Road': 1969,\n",
    "    \"Let It Be\": 1970}\n",
    "\n",
    "# COMPLETE THE FOR LOOP\n",
    "for i in Beatles_Discography:\n",
    "    print \"title: {}, year: {}\".format(i, Beatles_Discography[i])\n",
    "    # put a comma at the end to not print new line\n",
    "    \n",
    "#import sys\n",
    "#sys.writelines() #don't print new lines"
   ]
  },
  {
   "cell_type": "markdown",
   "metadata": {},
   "source": [
    "# While Loop"
   ]
  },
  {
   "cell_type": "code",
   "execution_count": 10,
   "metadata": {},
   "outputs": [
    {
     "name": "stdout",
     "output_type": "stream",
     "text": [
      "Enter a number  :1\n",
      "You entered:  1\n",
      "Good bye!\n"
     ]
    }
   ],
   "source": [
    "var = 0\n",
    "while var != 1 :  # This constructs an infinite loop\n",
    "    var = int(raw_input(\"Enter a number  :\"))\n",
    "    print \"You entered: \", var\n",
    "\n",
    "print \"Good bye!\""
   ]
  },
  {
   "cell_type": "markdown",
   "metadata": {},
   "source": [
    " # Problem\n",
    "Write a while loop such that the program keeps asking a question until a user gives a correct answer.\n",
    "\n",
    "```\n",
    "what is the password: asdf\n",
    "You entered: asdf\n",
    "num of tries: 1\n",
    "\n",
    "what is the password: ffff\n",
    "You entered: ffff\n",
    "num of tries: 2\n",
    "\n",
    "what is the password: hey\n",
    "You entered: hey\n",
    "num of tries: 3\n",
    "\n",
    "Good bye!\n",
    "```"
   ]
  },
  {
   "cell_type": "code",
   "execution_count": 13,
   "metadata": {},
   "outputs": [
    {
     "name": "stdout",
     "output_type": "stream",
     "text": [
      "\n",
      "what is the password : knf\n",
      "You entered: knf\n",
      "number of tries: 1\n",
      "\n",
      "what is the password : eawf\n",
      "You entered: eawf\n",
      "number of tries: 2\n",
      "\n",
      "what is the password : vasd\n",
      "You entered: vasd\n",
      "number of tries: 3\n",
      "\n",
      "what is the password : hey\n",
      "You entered: hey\n",
      "number of tries: 4\n",
      "\n",
      "Good bye!\n"
     ]
    }
   ],
   "source": [
    "correct = \"hey\"\n",
    "var = 0\n",
    "num_try = 0\n",
    "while var != correct :  # This constructs an infinite loop\n",
    "    var = raw_input(\"\\nwhat is the password : \")\n",
    "    num_try += 1\n",
    "    print \"You entered: {}\".format(var)\n",
    "    print \"number of tries:\", num_try\n",
    "\n",
    "print \"\\nGood bye!\""
   ]
  },
  {
   "cell_type": "markdown",
   "metadata": {},
   "source": [
    "# Problem\n",
    "Write a function that finds a median from a list of numbers.\n",
    "\n",
    "```\n",
    "median([7,3,2,6,1])\n",
    "\n",
    "output: 3\n",
    "\n",
    "median([12,53,0,10])\n",
    "\n",
    "output: 11.0\n",
    "```"
   ]
  },
  {
   "cell_type": "code",
   "execution_count": 19,
   "metadata": {},
   "outputs": [
    {
     "name": "stdout",
     "output_type": "stream",
     "text": [
      "2\n",
      "26\n"
     ]
    }
   ],
   "source": [
    "def median(numbers):\n",
    "    leng = len(numbers)\n",
    "    numm = sorted(numbers)\n",
    "    if leng%2 == 0:   #odd number \n",
    "        return (numbers[leng/2-1]+numbers[leng/2])/2\n",
    "    elif leng%2 != 0:\n",
    "        return numbers[leng/2]\n",
    "print median([7,3,2,6,1])\n",
    "print median([12,53,0,10])"
   ]
  },
  {
   "cell_type": "code",
   "execution_count": null,
   "metadata": {},
   "outputs": [],
   "source": []
  }
 ],
 "metadata": {
  "anaconda-cloud": {},
  "kernelspec": {
   "display_name": "Python 2",
   "language": "python",
   "name": "python2"
  },
  "language_info": {
   "codemirror_mode": {
    "name": "ipython",
    "version": 2
   },
   "file_extension": ".py",
   "mimetype": "text/x-python",
   "name": "python",
   "nbconvert_exporter": "python",
   "pygments_lexer": "ipython2",
   "version": "2.7.14"
  }
 },
 "nbformat": 4,
 "nbformat_minor": 1
}
