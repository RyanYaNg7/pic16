{
 "cells": [
  {
   "cell_type": "code",
   "execution_count": 2,
   "metadata": {
    "collapsed": false
   },
   "outputs": [
    {
     "name": "stdout",
     "output_type": "stream",
     "text": [
      "[1, 4, 9, 16, 25, 36, 49, 64, 81, 100]\n"
     ]
    }
   ],
   "source": [
    "square = lambda x: x**2\n",
    "x = map(square,range(1,11))\n",
    "print x"
   ]
  },
  {
   "cell_type": "code",
   "execution_count": 9,
   "metadata": {
    "collapsed": false
   },
   "outputs": [
    {
     "name": "stdout",
     "output_type": "stream",
     "text": [
      "[484, 625, 729, 784]\n"
     ]
    }
   ],
   "source": [
    "is_square = lambda x: x**0.5 % 1 == 0\n",
    "x = [484, 539, 566, 625, 686, 729, 784]\n",
    "y = filter(is_square,x)\n",
    "print y"
   ]
  },
  {
   "cell_type": "code",
   "execution_count": 14,
   "metadata": {
    "collapsed": false
   },
   "outputs": [
    {
     "name": "stdout",
     "output_type": "stream",
     "text": [
      "[3, 5, 6, 9, 10, 12, 15, 18, 20, 21, 24]\n",
      "[3, 5, 6, 9, 10, 12, 15, 18, 20, 21, 24]\n",
      "[3, 5, 6, 9, 10, 12, 15, 18, 20, 21, 24]\n"
     ]
    }
   ],
   "source": [
    "def f(x): return x % 3 == 0 or x % 5 == 0\n",
    "print filter(f, range(2, 25))\n",
    "\n",
    "y = []\n",
    "for x in range(2,25):\n",
    "    if f(x):\n",
    "        y.append(x)\n",
    "print y\n",
    "\n",
    "z = [x for x in range(2,25) if f(x)]\n",
    "print z"
   ]
  },
  {
   "cell_type": "code",
   "execution_count": 17,
   "metadata": {
    "collapsed": false
   },
   "outputs": [
    {
     "name": "stdout",
     "output_type": "stream",
     "text": [
      "[1, 8, 27, 64, 125, 216, 343, 512, 729, 1000]\n",
      "[1, 8, 27, 64, 125, 216, 343, 512, 729, 1000]\n",
      "[1, 8, 27, 64, 125, 216, 343, 512, 729, 1000]\n"
     ]
    }
   ],
   "source": [
    "def cube(x): return x*x*x\n",
    "print map(cube, range(1, 11))\n",
    "\n",
    "y = []\n",
    "for x in range(1,11):\n",
    "    y.append(cube(x))\n",
    "print y\n",
    "\n",
    "z = [cube(x) for x in range(1,11)]\n",
    "print z"
   ]
  },
  {
   "cell_type": "code",
   "execution_count": 19,
   "metadata": {
    "collapsed": false
   },
   "outputs": [
    {
     "name": "stdout",
     "output_type": "stream",
     "text": [
      "55\n",
      "55\n"
     ]
    }
   ],
   "source": [
    "def add(x,y): return x+y\n",
    "print reduce(add, range(1, 11))\n",
    "\n",
    "r = range(1,11)\n",
    "y = r[0]\n",
    "for x in r[1:]:\n",
    "    y = add(y,x)\n",
    "print y"
   ]
  },
  {
   "cell_type": "code",
   "execution_count": 24,
   "metadata": {
    "collapsed": false
   },
   "outputs": [
    {
     "name": "stdout",
     "output_type": "stream",
     "text": [
      "Using enumerate:\n",
      "0 tic\n",
      "1 tac\n",
      "2 toe\n",
      "Now without enumerate:\n",
      "0 tic\n",
      "1 tac\n",
      "2 toe\n"
     ]
    }
   ],
   "source": [
    "print \"Using enumerate:\"\n",
    "l = ['tic', 'tac', 'toe']\n",
    "for i, v in enumerate(l):\n",
    "    print i, v\n",
    "print \"Now without enumerate:\"\n",
    "for i in range(len(l)):\n",
    "    print i, l[i]"
   ]
  },
  {
   "cell_type": "code",
   "execution_count": 27,
   "metadata": {
    "collapsed": false
   },
   "outputs": [
    {
     "name": "stdout",
     "output_type": "stream",
     "text": [
      "With zip:\n",
      "What is your name?  It is Lancelot.\n",
      "What is your quest?  It is the holy grail.\n",
      "What is your favorite color?  It is blue.\n",
      "Without zip:\n",
      "What is your name?  It is Lancelot.\n",
      "What is your quest?  It is the holy grail.\n",
      "What is your favorite color?  It is blue.\n"
     ]
    }
   ],
   "source": [
    "questions = ['name', 'quest', 'favorite color']\n",
    "answers = ['Lancelot', 'the holy grail', 'blue']\n",
    "\n",
    "print \"With zip:\"\n",
    "for q, a in zip(questions, answers):\n",
    "    print 'What is your {0}?  It is {1}.'.format(q, a)\n",
    "    \n",
    "print \"Without zip:\"\n",
    "for i in range(len(questions)):\n",
    "    print 'What is your {0}?  It is {1}.'.format(questions[i], answers[i])"
   ]
  },
  {
   "cell_type": "code",
   "execution_count": 32,
   "metadata": {
    "collapsed": false
   },
   "outputs": [
    {
     "name": "stdout",
     "output_type": "stream",
     "text": [
      "With reversed\n",
      "9 7 5 3 1 \n",
      "Without reversed\n",
      "9 7 5 3 1\n"
     ]
    }
   ],
   "source": [
    "l = range(1,10,2)\n",
    "print \"With reversed\"\n",
    "for i in reversed(l):\n",
    "    print i,\n",
    "    \n",
    "print \"\\nWithout reversed\"\n",
    "for i in l[::-1]:\n",
    "    print i,"
   ]
  },
  {
   "cell_type": "code",
   "execution_count": 35,
   "metadata": {
    "collapsed": false
   },
   "outputs": [
    {
     "name": "stdout",
     "output_type": "stream",
     "text": [
      "With iteritems:\n",
      "gallahad the pure\n",
      "robin the brave\n",
      "Without iteritems:\n",
      "gallahad the pure\n",
      "robin the brave\n"
     ]
    }
   ],
   "source": [
    "knights = {'gallahad': 'the pure', 'robin': 'the brave'}\n",
    "\n",
    "print \"With iteritems:\"\n",
    "for k, v in knights.iteritems():\n",
    "    print k, v\n",
    "\n",
    "print \"Without iteritems:\"\n",
    "for key in knights:\n",
    "    print key,knights[key]"
   ]
  },
  {
   "cell_type": "code",
   "execution_count": 39,
   "metadata": {
    "collapsed": false
   },
   "outputs": [
    {
     "name": "stdout",
     "output_type": "stream",
     "text": [
      "True\n",
      "False\n"
     ]
    }
   ],
   "source": [
    "knights = [\"Arthur\", \"Lancelot\", \"Robin\", \"Bedevere\", \"Galahad\", \"Gawain\", \"Ector\", \"Bors\"]\n",
    "print \"Lancelot\" in knights\n",
    "print \"Black Knight\" in knights"
   ]
  },
  {
   "cell_type": "code",
   "execution_count": 36,
   "metadata": {
    "collapsed": false
   },
   "outputs": [
    {
     "name": "stdout",
     "output_type": "stream",
     "text": [
      "False\n",
      "True\n",
      "True\n",
      "True\n",
      "False\n",
      "True\n",
      "[1, 2, 3, 4]\n",
      "[1, 2, 3]\n",
      "[1, 2, 3, 4]\n"
     ]
    }
   ],
   "source": [
    "x = [1, 2, 3]\n",
    "y = [1, 2, 3]\n",
    "z = x\n",
    "print x is y # False - different objects\n",
    "print x == y # True\n",
    "print x is z # True - same object\n",
    "print x == z # True\n",
    "print y is z # False - different objects\n",
    "print y == z # True\n",
    "x.append(4)\n",
    "print x # [1,2,3,4]\n",
    "print y # [1,2,3]\n",
    "print z # [1,2,3,4]\n"
   ]
  },
  {
   "cell_type": "code",
   "execution_count": 42,
   "metadata": {
    "collapsed": false
   },
   "outputs": [
    {
     "name": "stdout",
     "output_type": "stream",
     "text": [
      "True\n",
      "True\n",
      "True\n",
      "True\n",
      "True\n",
      "True\n"
     ]
    }
   ],
   "source": [
    "print (1, 2, 3)              < (1, 2, 4) # True\n",
    "print [1, 2, 3]              < [1, 2, 4] # True\n",
    "print (1, 2, 3, 4)           < (1, 2, 4) # True\n",
    "print (1, 2)                 < (1, 2, 4) # True\n",
    "print (1, 2, 3)             == (1.0, 2.0, 3.0) # True\n",
    "print (1, 2, ('aa', 'b'))    < (1, 2, ('ab', 'a'), 4) # True"
   ]
  },
  {
   "cell_type": "code",
   "execution_count": 55,
   "metadata": {
    "collapsed": false
   },
   "outputs": [
    {
     "name": "stdout",
     "output_type": "stream",
     "text": [
      "<type 'bool'>\n",
      "<type 'str'>\n"
     ]
    }
   ],
   "source": [
    "print type(True)\n",
    "print type(\"Pascal\")"
   ]
  },
  {
   "cell_type": "code",
   "execution_count": 56,
   "metadata": {
    "collapsed": false
   },
   "outputs": [
    {
     "name": "stdout",
     "output_type": "stream",
     "text": [
      "False\n",
      "True\n",
      "True\n"
     ]
    }
   ],
   "source": [
    "print 'ABC' > 'C' < 'Pascal' < 'Python' # False because 'ABC' < 'C'\n",
    "print True < 'Pascal' # True because \"bool\" < \"str\"\n",
    "print ('ABC' > 'C') < 'Pascal' < 'Python' # True because \"bool\" < \"str\" and \"Pascal\" < \"Python\" "
   ]
  },
  {
   "cell_type": "code",
   "execution_count": 68,
   "metadata": {
    "collapsed": false
   },
   "outputs": [
    {
     "name": "stdout",
     "output_type": "stream",
     "text": [
      "True\n",
      "False\n",
      "False\n",
      "True\n",
      "False\n",
      "2\n"
     ]
    }
   ],
   "source": [
    "print False == 0\n",
    "print False == 1\n",
    "print True == 0\n",
    "print True == 1\n",
    "print True == 2\n",
    "print True + 1"
   ]
  },
  {
   "cell_type": "code",
   "execution_count": 66,
   "metadata": {
    "collapsed": false
   },
   "outputs": [
    {
     "name": "stdout",
     "output_type": "stream",
     "text": [
      "False\n",
      "True\n",
      "False\n",
      "True\n",
      "False\n"
     ]
    }
   ],
   "source": [
    "x = 1; print 1 < x < 3 # False because 1 !< 1\n",
    "x = 2; print 1 < x < 3 # True because 1 < 2 and 2 < 3\n",
    "x = 3; print 1 < x < 3 # False because 3 !< 3\n",
    "x = 3; print (1 < x) < 3 # True because (1 < 3) is True, True == 1, and 1  < 3\n",
    "x = 3; print (1 < x) < 0 # True because (1 < 3) is True, True == 1, and 1  < 3\n",
    "# The last line evaluates 1 < x < 3 as C++ or Java would - they would perform the first comparison, \n",
    "# return the result, and compare this result - a boolean - to the last integer."
   ]
  },
  {
   "cell_type": "code",
   "execution_count": null,
   "metadata": {
    "collapsed": true
   },
   "outputs": [],
   "source": []
  }
 ],
 "metadata": {
  "anaconda-cloud": {},
  "kernelspec": {
   "display_name": "Python [Root]",
   "language": "python",
   "name": "Python [Root]"
  },
  "language_info": {
   "codemirror_mode": {
    "name": "ipython",
    "version": 2
   },
   "file_extension": ".py",
   "mimetype": "text/x-python",
   "name": "python",
   "nbconvert_exporter": "python",
   "pygments_lexer": "ipython2",
   "version": "2.7.12"
  }
 },
 "nbformat": 4,
 "nbformat_minor": 0
}
