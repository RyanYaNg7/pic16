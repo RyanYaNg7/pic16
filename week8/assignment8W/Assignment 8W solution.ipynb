{
 "cells": [
  {
   "cell_type": "code",
   "execution_count": 141,
   "metadata": {
    "collapsed": true
   },
   "outputs": [],
   "source": [
    "import numpy as np\n",
    "import scipy.optimize as spopt\n",
    "import scipy.integrate as spint\n",
    "import matplotlib.pyplot as plt\n",
    "%matplotlib inline"
   ]
  },
  {
   "cell_type": "code",
   "execution_count": 142,
   "metadata": {
    "collapsed": false
   },
   "outputs": [],
   "source": [
    "N = 50\n",
    "P = np.pi/2\n",
    "\n",
    "z0 = np.random.rand(50)*P\n",
    "\n",
    "# x = np.linspace(0,1,N)\n",
    "# y = np.cos(np.arcsin(x))\n",
    "# z0 = np.append(x[-1],y[:-1]) # perfect guess can be useful for testing your functions"
   ]
  },
  {
   "cell_type": "code",
   "execution_count": 143,
   "metadata": {
    "collapsed": false
   },
   "outputs": [],
   "source": [
    "def z2xy(z):\n",
    "    x = np.linspace(0,z[0],N)\n",
    "    y = np.append(z[1:],0)\n",
    "    return x,y\n",
    "x,y = z2xy(z0)\n",
    "# plt.plot(x,y)"
   ]
  },
  {
   "cell_type": "code",
   "execution_count": 144,
   "metadata": {
    "collapsed": false
   },
   "outputs": [],
   "source": [
    "def obj(z):\n",
    "    x,y = z2xy(z)\n",
    "    A = spint.trapz(y,x)\n",
    "    return -A\n",
    "A = obj(z0)\n",
    "# print A"
   ]
  },
  {
   "cell_type": "code",
   "execution_count": 145,
   "metadata": {
    "collapsed": false
   },
   "outputs": [],
   "source": [
    "def con(z):\n",
    "    x,y = z2xy(z)\n",
    "    x1 = x[:-1]\n",
    "    x2 = x[1:]\n",
    "    y1 = y[:-1]\n",
    "    y2 = y[1:]\n",
    "    l = sum(np.sqrt((x2 - x1)**2 + (y2 - y1)**2))\n",
    "    return P - l\n",
    "c = con(z0)\n",
    "# print c"
   ]
  },
  {
   "cell_type": "code",
   "execution_count": 146,
   "metadata": {
    "collapsed": false
   },
   "outputs": [],
   "source": [
    "bounds = [(0, P) for i in range(N)]"
   ]
  },
  {
   "cell_type": "code",
   "execution_count": 147,
   "metadata": {
    "collapsed": true
   },
   "outputs": [],
   "source": [
    "nonlcon = {\"type\":\"eq\", \"fun\":con}"
   ]
  },
  {
   "cell_type": "code",
   "execution_count": 148,
   "metadata": {
    "collapsed": false
   },
   "outputs": [],
   "source": [
    "sol = spopt.minimize(obj,z0,bounds = bounds, constraints = nonlcon)"
   ]
  },
  {
   "cell_type": "code",
   "execution_count": 149,
   "metadata": {
    "collapsed": false
   },
   "outputs": [],
   "source": [
    "# print sol"
   ]
  },
  {
   "cell_type": "code",
   "execution_count": null,
   "metadata": {
    "collapsed": true
   },
   "outputs": [],
   "source": []
  },
  {
   "cell_type": "code",
   "execution_count": 161,
   "metadata": {
    "collapsed": false
   },
   "outputs": [
    {
     "data": {
      "text/plain": [
       "<matplotlib.legend.Legend at 0x1127a5d50>"
      ]
     },
     "execution_count": 161,
     "metadata": {},
     "output_type": "execute_result"
    },
    {
     "data": {
      "image/png": "[encoded data removed]",
      "text/plain": [
       "<matplotlib.figure.Figure at 0x112010890>"
      ]
     },
     "metadata": {},
     "output_type": "display_data"
    }
   ],
   "source": [
    "z = sol.x\n",
    "x,y = z2xy(z)\n",
    "x0,y0 = z2xy(z0)\n",
    "\n",
    "plt.plot(x,y,x0,y0)\n",
    "plt.axis(\"equal\")\n",
    "plt.legend([\"Solution\",\"Guess\"])\n"
   ]
  },
  {
   "cell_type": "code",
   "execution_count": null,
   "metadata": {
    "collapsed": true
   },
   "outputs": [],
   "source": []
  }
 ],
 "metadata": {
  "kernelspec": {
   "display_name": "Python [Root]",
   "language": "python",
   "name": "Python [Root]"
  },
  "language_info": {
   "codemirror_mode": {
    "name": "ipython",
    "version": 2
   },
   "file_extension": ".py",
   "mimetype": "text/x-python",
   "name": "python",
   "nbconvert_exporter": "python",
   "pygments_lexer": "ipython2",
   "version": "2.7.12"
  }
 },
 "nbformat": 4,
 "nbformat_minor": 0
}
