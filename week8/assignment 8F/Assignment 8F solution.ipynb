{
 "cells": [
  {
   "cell_type": "code",
   "execution_count": 155,
   "metadata": {
    "collapsed": false
   },
   "outputs": [
    {
     "name": "stdout",
     "output_type": "stream",
     "text": [
      "showing info https://raw.githubusercontent.com/nltk/nltk_data/gh-pages/index.xml\n"
     ]
    },
    {
     "data": {
      "text/plain": [
       "True"
      ]
     },
     "execution_count": 155,
     "metadata": {},
     "output_type": "execute_result"
    }
   ],
   "source": [
    "import nltk\n",
    "nltk.download()"
   ]
  },
  {
   "cell_type": "code",
   "execution_count": 156,
   "metadata": {
    "collapsed": false
   },
   "outputs": [],
   "source": [
    "import urllib\n",
    "url = \"http://www.gutenberg.org/files/863/863-0.txt\"\n",
    "response = urllib.urlopen(url)\n",
    "raw = response.read().decode('utf8')"
   ]
  },
  {
   "cell_type": "code",
   "execution_count": 157,
   "metadata": {
    "collapsed": false
   },
   "outputs": [
    {
     "name": "stdout",
     "output_type": "stream",
     "text": [
      "CHAPTER I.\n"
     ]
    }
   ],
   "source": [
    "i0 = raw.rfind(\"CHAPTER I. I GO TO STYLES\")\n",
    "print raw[i0:i0+10]"
   ]
  },
  {
   "cell_type": "code",
   "execution_count": 158,
   "metadata": {
    "collapsed": false
   },
   "outputs": [
    {
     "name": "stdout",
     "output_type": "stream",
     "text": [
      "THE END\n",
      "DNE EHT\n"
     ]
    }
   ],
   "source": [
    "i1 = raw.rfind(\"THE END\")\n",
    "print raw[i1:i1+7]\n",
    "i1 = i1+6 # this is really the index we want\n",
    "print raw[i1:i1-7:-1]"
   ]
  },
  {
   "cell_type": "code",
   "execution_count": 159,
   "metadata": {
    "collapsed": false
   },
   "outputs": [],
   "source": [
    "text = raw[i0:i1+1]"
   ]
  },
  {
   "cell_type": "code",
   "execution_count": 76,
   "metadata": {
    "collapsed": false
   },
   "outputs": [
    {
     "name": "stdout",
     "output_type": "stream",
     "text": [
      "CHAPTER I.\n",
      "\n",
      "\r\n",
      "THE END\n"
     ]
    }
   ],
   "source": [
    "print text[0:10]\n",
    "print text[-10:]"
   ]
  },
  {
   "cell_type": "code",
   "execution_count": 77,
   "metadata": {
    "collapsed": false
   },
   "outputs": [
    {
     "name": "stdout",
     "output_type": "stream",
     "text": [
      "The ratio of unique tokens to total tokens is: 0.176537262681\n"
     ]
    }
   ],
   "source": [
    "tokens = text.split()\n",
    "d = nltk.FreqDist(tokens)\n",
    "lexical_diversity = float(len(d))/len(tokens)\n",
    "print \"The ratio of unique tokens to total tokens is:\", lexical_diversity"
   ]
  },
  {
   "cell_type": "code",
   "execution_count": 78,
   "metadata": {
    "collapsed": false
   },
   "outputs": [
    {
     "name": "stdout",
     "output_type": "stream",
     "text": [
      "The ratio of unique tokens to total tokens is: 0.0802824447406\n"
     ]
    }
   ],
   "source": [
    "text = text.replace(\"_\",\"\")\n",
    "tokens = nltk.word_tokenize(text)\n",
    "d = nltk.FreqDist(tokens)\n",
    "lexical_diversity = float(len(d))/len(tokens)\n",
    "print \"The ratio of unique tokens to total tokens is:\", lexical_diversity"
   ]
  },
  {
   "cell_type": "code",
   "execution_count": 79,
   "metadata": {
    "collapsed": false
   },
   "outputs": [
    {
     "name": "stdout",
     "output_type": "stream",
     "text": [
      "The ratio of unique tokens to total tokens is: 0.0741056218058\n"
     ]
    }
   ],
   "source": [
    "lower = text.lower()\n",
    "tokens = nltk.word_tokenize(lower)\n",
    "d = nltk.FreqDist(tokens)\n",
    "lexical_diversity = float(len(d))/len(tokens)\n",
    "print \"The ratio of unique tokens to total tokens is:\", lexical_diversity"
   ]
  },
  {
   "cell_type": "code",
   "execution_count": 80,
   "metadata": {
    "collapsed": false
   },
   "outputs": [
    {
     "name": "stdout",
     "output_type": "stream",
     "text": [
      "run\n",
      "run\n",
      "run\n",
      "ran\n"
     ]
    }
   ],
   "source": [
    "p = nltk.PorterStemmer()\n",
    "print p.stem(\"running\")\n",
    "print p.stem(\"runs\")\n",
    "print p.stem(\"runned\") # The stemmer uses simple rules to try to extract the \"stem\".\n",
    "print p.stem(\"ran\")    # It's not perfect because English is so irregular."
   ]
  },
  {
   "cell_type": "code",
   "execution_count": 81,
   "metadata": {
    "collapsed": false
   },
   "outputs": [
    {
     "name": "stdout",
     "output_type": "stream",
     "text": [
      "The ratio of unique word stems to total tokens is: 0.0554487003352\n"
     ]
    }
   ],
   "source": [
    "stems = map(p.stem,tokens)\n",
    "d = nltk.FreqDist(stems)\n",
    "lexical_diversity = float(len(d))/len(tokens)\n",
    "print \"The ratio of unique word stems to total tokens is:\", lexical_diversity"
   ]
  },
  {
   "cell_type": "code",
   "execution_count": 83,
   "metadata": {
    "collapsed": false
   },
   "outputs": [],
   "source": [
    "text = nltk.Text(tokens)"
   ]
  },
  {
   "cell_type": "code",
   "execution_count": 84,
   "metadata": {
    "collapsed": false
   },
   "outputs": [
    {
     "name": "stdout",
     "output_type": "stream",
     "text": [
      "Displaying 23 of 23 matches:\n",
      "n , stared fixedly over my head at a point on the further wall . it was as thou\n",
      " hats once -- but that is not to the point . '' `` it was very likely done last\n",
      "natural faculties . `` and the sixth point ? '' i asked . `` i suppose it is th\n",
      "six , but i did not . no , the sixth point i will keep to myself for the presen\n",
      " of the tragedy . poirot came to the point at once , with a business-like brisk\n",
      " he said . `` do your investigations point to my mother having died a natural d\n",
      "here , it would have been a valuable point in his favour . that is all . '' joh\n",
      "ways the most likely . '' `` another point -- how did you know that the key of \n",
      "nglish say ! you have chosen the one point that to my mind tells against him . \n",
      " whole riddle ! '' `` and the second point ? '' i asked . `` the important fact\n",
      "a judicious mixture of both . on one point , poirot seemed to have a curious ob\n",
      "ternoon . dorcas 's evidence on this point was substantially what poirot and i \n",
      " we need trouble you further on that point . we know all that can be known of t\n",
      "k ? the coroner went straight to the point . `` on monday evening last , did yo\n",
      "however , passed briskly to the next point , and poirot drew a deep breath of r\n",
      "me to introduce the poison . at that point , poirot nudged me gently , indicati\n",
      "er understood his insistence on that point . `` yes , a good deal that was pecu\n",
      "ly whether she is quite sane on that point . '' poirot shook his head energetic\n",
      "eady ? '' `` yes , yes , that 's the point . i did n't see it either until now \n",
      "u can imagine that , from my aunts ' point of view , it was a very good match f\n",
      "e object of the defence to deny this point . mrs. cavendish , of course , could\n",
      "iew of the case . finally , he would point out to the jury that there was evide\n",
      "derstand . '' `` look at it from his point of view . i have discovered that the\n"
     ]
    }
   ],
   "source": [
    "text.concordance(\"point\")"
   ]
  },
  {
   "cell_type": "code",
   "execution_count": 86,
   "metadata": {
    "collapsed": false
   },
   "outputs": [
    {
     "data": {
      "text/plain": [
       "[(u',', 4280),\n",
       " (u'.', 4156),\n",
       " (u'the', 2646),\n",
       " (u\"''\", 2339),\n",
       " (u'``', 2097),\n",
       " (u'i', 1773),\n",
       " (u'to', 1346),\n",
       " (u'of', 1269),\n",
       " (u'a', 1214),\n",
       " (u'and', 1161),\n",
       " (u'it', 1075),\n",
       " (u'that', 1011),\n",
       " (u'was', 951),\n",
       " (u'you', 942),\n",
       " (u'?', 837),\n",
       " (u'in', 828),\n",
       " (u'he', 769),\n",
       " (u'--', 594),\n",
       " (u'is', 571),\n",
       " (u'not', 551),\n",
       " (u'had', 509),\n",
       " (u'she', 507),\n",
       " (u'her', 469),\n",
       " (u\"'s\", 440),\n",
       " (u'but', 429),\n",
       " (u'his', 422),\n",
       " (u'poirot', 413),\n",
       " (u'!', 413),\n",
       " (u'have', 401),\n",
       " (u'at', 397)]"
      ]
     },
     "execution_count": 86,
     "metadata": {},
     "output_type": "execute_result"
    }
   ],
   "source": [
    "d = nltk.FreqDist(text)\n",
    "d.most_common(30)"
   ]
  },
  {
   "cell_type": "code",
   "execution_count": 98,
   "metadata": {
    "collapsed": false
   },
   "outputs": [
    {
     "name": "stdout",
     "output_type": "stream",
     "text": [
      "the : 2646\n",
      "i : 1773\n",
      "to : 1346\n",
      "of : 1269\n",
      "a : 1214\n",
      "and : 1161\n",
      "it : 1075\n",
      "that : 1011\n",
      "was : 951\n",
      "you : 942\n",
      "in : 828\n",
      "he : 769\n",
      "is : 571\n",
      "not : 551\n",
      "had : 509\n",
      "she : 507\n",
      "her : 469\n",
      "but : 429\n",
      "his : 422\n",
      "poirot : 413\n",
      "have : 401\n",
      "at : 397\n",
      "as : 391\n",
      "me : 389\n",
      "my : 387\n",
      "on : 358\n",
      "with : 343\n",
      "for : 332\n",
      "no : 328\n",
      "inglethorp : 324\n"
     ]
    }
   ],
   "source": [
    "l = [(d[key],key) for key in d if \"a\" <= key <= \"zzzzzz\"]\n",
    "l = sorted(l, reverse = True)\n",
    "for pair in l[:30]:\n",
    "    print pair[1], \":\", pair[0]"
   ]
  },
  {
   "cell_type": "code",
   "execution_count": 99,
   "metadata": {
    "collapsed": true
   },
   "outputs": [],
   "source": [
    "from nltk.corpus import wordnet as wn"
   ]
  },
  {
   "cell_type": "code",
   "execution_count": 123,
   "metadata": {
    "collapsed": false
   },
   "outputs": [
    {
     "name": "stdout",
     "output_type": "stream",
     "text": [
      " Synset('point.n.01') a geometric element that has position but no extension\n",
      "Synset('point.n.02') the precise location of something; a spatially limited location\n",
      "Synset('point.n.03') a brief version of the essential meaning of something\n",
      "Synset('detail.n.01') an isolated fact that is considered separately from the whole\n",
      "Synset('degree.n.02') a specific identifiable position in a continuum or series or especially in a process\n",
      "Synset('point.n.06') an instant of time\n",
      "Synset('point.n.07') the object of an activity\n",
      "Synset('point.n.08') a V shape\n",
      "Synset('point.n.09') a very small circular shape\n",
      "Synset('point.n.10') the unit of counting in scoring a game or contest\n",
      "Synset('point.n.11') a promontory extending out into a large body of water\n",
      "Synset('item.n.01') a distinct part that can be specified separately in a group of things that could be enumerated on a list\n",
      "Synset('point.n.13') a style in speech or writing that arrests attention and has a penetrating or convincing quality or effect\n",
      "Synset('point.n.14') an outstanding characteristic\n",
      "Synset('point.n.15') sharp end\n",
      "Synset('compass_point.n.01') any of 32 horizontal directions indicated on the card of a compass\n",
      "Synset('point.n.17') a linear unit used to measure the size of type; approximately 1/72 inch\n",
      "Synset('point.n.18') one percent of the total principal of a loan; it is paid at the time the loan is made and is independent of the interest on the loan\n",
      "Synset('period.n.07') a punctuation mark (.) placed at the end of a declarative sentence to indicate a full stop or after abbreviations\n",
      "Synset('point.n.20') a V-shaped mark at one end of an arrow pointer\n",
      "Synset('decimal_point.n.01') the dot at the left of a decimal fraction\n",
      "Synset('point.n.22') the property of a shape that tapers to a sharp tip\n",
      "Synset('point.n.23') a distinguishing or individuating characteristic\n",
      "Synset('point.n.24') the gun muzzle's direction\n",
      "Synset('point.n.25') a wall socket\n",
      "Synset('distributor_point.n.01') a contact in the distributor; as the rotor turns its projecting arm contacts them and current flows to the spark plugs\n",
      "Synset('indicate.v.02') indicate a place, direction, person, or thing; either spatially or figuratively\n",
      "Synset('orient.v.01') be oriented\n",
      "Synset('charge.v.17') direct into a position for use\n",
      "Synset('steer.v.01') direct the course; determine the direction of travelling\n",
      "Synset('bespeak.v.01') be a signal for or a symptom of\n",
      "Synset('luff.v.01') sail close to the wind\n",
      "Synset('point.v.07') mark (Hebrew words) with diacritics\n",
      "Synset('point.v.08') mark with diacritics\n",
      "Synset('point.v.09') mark (a psalm text) to indicate the points at which the music changes\n",
      "Synset('point.v.10') be positionable in a specified manner\n",
      "Synset('target.v.01') intend (something) to move towards a certain goal\n",
      "Synset('point.v.12') indicate the presence of (game) by standing and pointing with the muzzle\n",
      "Synset('sharpen.v.07') give a point to\n",
      "Synset('point.v.14') repair the joints of bricks\n"
     ]
    }
   ],
   "source": [
    "x = wn.synsets(\"point\")\n",
    "for i in x:\n",
    "    print i, i.definition()"
   ]
  },
  {
   "cell_type": "code",
   "execution_count": 161,
   "metadata": {
    "collapsed": false
   },
   "outputs": [
    {
     "name": "stdout",
     "output_type": "stream",
     "text": [
      "23\n"
     ]
    }
   ],
   "source": [
    "text = raw[i0:i1+1]\n",
    "# p = nltk.tokenize.punkt.PunktSentenceTokenizer()\n",
    "# sentences = p.tokenize(text)\n",
    "sentences = nltk.sent_tokenize(text)\n",
    "# s = [s for s in sentences if \"point\" in s] # this would give sentences that include words like \"appointed\"\n",
    "sentences = [s for s in sentences if \"point\" in nltk.word_tokenize(s)]\n",
    "print len(sentences)"
   ]
  },
  {
   "cell_type": "markdown",
   "metadata": {},
   "source": [
    "Concordance found 23 sentences with point, so this looks good"
   ]
  },
  {
   "cell_type": "code",
   "execution_count": 125,
   "metadata": {
    "collapsed": false
   },
   "outputs": [],
   "source": [
    "from nltk.wsd import lesk"
   ]
  },
  {
   "cell_type": "code",
   "execution_count": 135,
   "metadata": {
    "collapsed": false
   },
   "outputs": [
    {
     "name": "stdout",
     "output_type": "stream",
     "text": [
      "He was\r\n",
      "white as chalk, the candle he held in his shaking hand was sputtering\r\n",
      "onto the carpet, and his eyes, petrified with terror, or some such\r\n",
      "kindred emotion, stared fixedly over my head at a point on the further\r\n",
      "wall.\n",
      "The definition of point, as used in this sentence, is:\n",
      "one percent of the total principal of a loan; it is paid at the time the loan is made and is independent of the interest on the loan\n",
      "\n",
      "\n",
      "One of my best hats once--but that is not\r\n",
      "to the point.\"\n",
      "The definition of point, as used in this sentence, is:\n",
      "the property of a shape that tapers to a sharp tip\n",
      "\n",
      "\n",
      "\"And the sixth point?\"\n",
      "The definition of point, as used in this sentence, is:\n",
      "direct the course; determine the direction of travelling\n",
      "\n",
      "\n",
      "No, the sixth point I will keep to myself for the\r\n",
      "present.\"\n",
      "The definition of point, as used in this sentence, is:\n",
      "give a point to\n",
      "\n",
      "\n",
      "Poirot came to the point at once, with a business-like briskness.\n",
      "The definition of point, as used in this sentence, is:\n",
      "a punctuation mark (.) placed at the end of a declarative sentence to indicate a full stop or after abbreviations\n",
      "\n",
      "\n",
      "\"Do your investigations\r\n",
      "point to my mother having died a natural death--or--or must we prepare\r\n",
      "ourselves for the worst?\"\n",
      "The definition of point, as used in this sentence, is:\n",
      "a punctuation mark (.) placed at the end of a declarative sentence to indicate a full stop or after abbreviations\n",
      "\n",
      "\n",
      "If anyone had chanced to look this morning before his\r\n",
      "return, and seen it there, it would have been a valuable point in his\r\n",
      "favour.\n",
      "The definition of point, as used in this sentence, is:\n",
      "a contact in the distributor; as the rotor turns its projecting arm contacts them and current flows to the spark plugs\n",
      "\n",
      "\n",
      "\"Another point--how did you know that the key of the despatch-case had\r\n",
      "been lost?\"\n",
      "The definition of point, as used in this sentence, is:\n",
      "the property of a shape that tapers to a sharp tip\n",
      "\n",
      "\n",
      "You have chosen the one point that to\r\n",
      "my mind tells against him.\"\n",
      "The definition of point, as used in this sentence, is:\n",
      "the property of a shape that tapers to a sharp tip\n",
      "\n",
      "\n",
      "\"And the second point?\"\n",
      "The definition of point, as used in this sentence, is:\n",
      "direct the course; determine the direction of travelling\n",
      "\n",
      "\n",
      "On one point, Poirot seemed to have a curious obsession.\n",
      "The definition of point, as used in this sentence, is:\n",
      "give a point to\n",
      "\n",
      "\n",
      "Dorcas's evidence on this point was substantially what Poirot and I had\r\n",
      "already heard, so I will not repeat it here.\n",
      "The definition of point, as used in this sentence, is:\n",
      "one percent of the total principal of a loan; it is paid at the time the loan is made and is independent of the interest on the loan\n",
      "\n",
      "\n",
      "\"I really do not think we need trouble you further on that point.\n",
      "The definition of point, as used in this sentence, is:\n",
      "a distinct part that can be specified separately in a group of things that could be enumerated on a list\n",
      "\n",
      "\n",
      "The Coroner went straight to the point.\n",
      "The definition of point, as used in this sentence, is:\n",
      "give a point to\n",
      "\n",
      "\n",
      "The Coroner, however, passed briskly\r\n",
      "to the next point, and Poirot drew a deep breath of relief.\n",
      "The definition of point, as used in this sentence, is:\n",
      "the property of a shape that tapers to a sharp tip\n",
      "\n",
      "\n",
      "At that point, Poirot nudged me gently, indicating two men who\r\n",
      "were sitting together near the door.\n",
      "The definition of point, as used in this sentence, is:\n",
      "the property of a shape that tapers to a sharp tip\n",
      "\n",
      "\n",
      "I had never understood his insistence on that\r\n",
      "point.\n",
      "The definition of point, as used in this sentence, is:\n",
      "a distinct part that can be specified separately in a group of things that could be enumerated on a list\n",
      "\n",
      "\n",
      "I wondered really whether she is quite\r\n",
      "sane on that point.\"\n",
      "The definition of point, as used in this sentence, is:\n",
      "one percent of the total principal of a loan; it is paid at the time the loan is made and is independent of the interest on the loan\n",
      "\n",
      "\n",
      "\"Yes, yes, that's the point.\n",
      "The definition of point, as used in this sentence, is:\n",
      "the property of a shape that tapers to a sharp tip\n",
      "\n",
      "\n",
      "\"You can imagine that, from my aunts' point of view, it was a very good\r\n",
      "match for me.\n",
      "The definition of point, as used in this sentence, is:\n",
      "a distinct part that can be specified separately in a group of things that could be enumerated on a list\n",
      "\n",
      "\n",
      "He knew only too well how useless her\r\n",
      "gallant defiance was, since it was not the object of the defence to deny\r\n",
      "this point.\n",
      "The definition of point, as used in this sentence, is:\n",
      "the property of a shape that tapers to a sharp tip\n",
      "\n",
      "\n",
      "Finally, he would point out to the jury that there was evidence against\r\n",
      "other people besides John Cavendish.\n",
      "The definition of point, as used in this sentence, is:\n",
      "the property of a shape that tapers to a sharp tip\n",
      "\n",
      "\n",
      "\"Look at it from his point of view.\n",
      "The definition of point, as used in this sentence, is:\n",
      "one percent of the total principal of a loan; it is paid at the time the loan is made and is independent of the interest on the loan\n",
      "\n",
      "\n"
     ]
    }
   ],
   "source": [
    "for sentence in sentences:\n",
    "    print sentence\n",
    "    synset = lesk(nltk.word_tokenize(sentence),\"point\")\n",
    "    print \"The definition of point, as used in this sentence, is:\"\n",
    "    print synset.definition()\n",
    "    print \"\\n\""
   ]
  },
  {
   "cell_type": "code",
   "execution_count": 154,
   "metadata": {
    "collapsed": false
   },
   "outputs": [
    {
     "name": "stdout",
     "output_type": "stream",
     "text": [
      "One of my best hats once--but that is not\r\n",
      "to the point.\"\n",
      "n\n",
      "Finally, he would point out to the jury that there was evidence against\r\n",
      "other people besides John Cavendish.\n",
      "v\n",
      "\"Do your investigations\r\n",
      "point to my mother having died a natural death--or--or must we prepare\r\n",
      "ourselves for the worst?\"\n",
      "n\n"
     ]
    }
   ],
   "source": [
    "word = \"point\"\n",
    "def get_pos(sentence,word):\n",
    "    tags = nltk.pos_tag(nltk.word_tokenize(sentence))\n",
    "    words = [tag[0] for tag in tags]\n",
    "    i = words.index(\"point\")\n",
    "    pos = tags[i][1]\n",
    "    return pos[0].lower()\n",
    "\n",
    "print sentences[1]\n",
    "print get_pos(sentences[1],word) # right\n",
    "\n",
    "print sentences[21]\n",
    "print get_pos(sentences[21],word) # right\n",
    "\n",
    "print sentences[5]\n",
    "print get_pos(sentences[5],word) # wrong"
   ]
  },
  {
   "cell_type": "code",
   "execution_count": 150,
   "metadata": {
    "collapsed": false
   },
   "outputs": [
    {
     "name": "stdout",
     "output_type": "stream",
     "text": [
      "He was\r\n",
      "white as chalk, the candle he held in his shaking hand was sputtering\r\n",
      "onto the carpet, and his eyes, petrified with terror, or some such\r\n",
      "kindred emotion, stared fixedly over my head at a point on the further\r\n",
      "wall.\n",
      "The part of speech of 'point' in this sentence is: n\n",
      "The definition of point, as used in this sentence, is:\n",
      "one percent of the total principal of a loan; it is paid at the time the loan is made and is independent of the interest on the loan\n",
      "\n",
      "\n",
      "One of my best hats once--but that is not\r\n",
      "to the point.\"\n",
      "The part of speech of 'point' in this sentence is: n\n",
      "The definition of point, as used in this sentence, is:\n",
      "the property of a shape that tapers to a sharp tip\n",
      "\n",
      "\n",
      "\"And the sixth point?\"\n",
      "The part of speech of 'point' in this sentence is: n\n",
      "The definition of point, as used in this sentence, is:\n",
      "the gun muzzle's direction\n",
      "\n",
      "\n",
      "No, the sixth point I will keep to myself for the\r\n",
      "present.\"\n",
      "The part of speech of 'point' in this sentence is: n\n",
      "The definition of point, as used in this sentence, is:\n",
      "the property of a shape that tapers to a sharp tip\n",
      "\n",
      "\n",
      "Poirot came to the point at once, with a business-like briskness.\n",
      "The part of speech of 'point' in this sentence is: n\n",
      "The definition of point, as used in this sentence, is:\n",
      "a punctuation mark (.) placed at the end of a declarative sentence to indicate a full stop or after abbreviations\n",
      "\n",
      "\n",
      "\"Do your investigations\r\n",
      "point to my mother having died a natural death--or--or must we prepare\r\n",
      "ourselves for the worst?\"\n",
      "The part of speech of 'point' in this sentence is: n\n",
      "The definition of point, as used in this sentence, is:\n",
      "a punctuation mark (.) placed at the end of a declarative sentence to indicate a full stop or after abbreviations\n",
      "\n",
      "\n",
      "If anyone had chanced to look this morning before his\r\n",
      "return, and seen it there, it would have been a valuable point in his\r\n",
      "favour.\n",
      "The part of speech of 'point' in this sentence is: n\n",
      "The definition of point, as used in this sentence, is:\n",
      "a contact in the distributor; as the rotor turns its projecting arm contacts them and current flows to the spark plugs\n",
      "\n",
      "\n",
      "\"Another point--how did you know that the key of the despatch-case had\r\n",
      "been lost?\"\n",
      "The part of speech of 'point' in this sentence is: n\n",
      "The definition of point, as used in this sentence, is:\n",
      "the property of a shape that tapers to a sharp tip\n",
      "\n",
      "\n",
      "You have chosen the one point that to\r\n",
      "my mind tells against him.\"\n",
      "The part of speech of 'point' in this sentence is: n\n",
      "The definition of point, as used in this sentence, is:\n",
      "the property of a shape that tapers to a sharp tip\n",
      "\n",
      "\n",
      "\"And the second point?\"\n",
      "The part of speech of 'point' in this sentence is: n\n",
      "The definition of point, as used in this sentence, is:\n",
      "the gun muzzle's direction\n",
      "\n",
      "\n",
      "On one point, Poirot seemed to have a curious obsession.\n",
      "The part of speech of 'point' in this sentence is: n\n",
      "The definition of point, as used in this sentence, is:\n",
      "the property of a shape that tapers to a sharp tip\n",
      "\n",
      "\n",
      "Dorcas's evidence on this point was substantially what Poirot and I had\r\n",
      "already heard, so I will not repeat it here.\n",
      "The part of speech of 'point' in this sentence is: n\n",
      "The definition of point, as used in this sentence, is:\n",
      "one percent of the total principal of a loan; it is paid at the time the loan is made and is independent of the interest on the loan\n",
      "\n",
      "\n",
      "\"I really do not think we need trouble you further on that point.\n",
      "The part of speech of 'point' in this sentence is: n\n",
      "The definition of point, as used in this sentence, is:\n",
      "a distinct part that can be specified separately in a group of things that could be enumerated on a list\n",
      "\n",
      "\n",
      "The Coroner went straight to the point.\n",
      "The part of speech of 'point' in this sentence is: n\n",
      "The definition of point, as used in this sentence, is:\n",
      "the property of a shape that tapers to a sharp tip\n",
      "\n",
      "\n",
      "The Coroner, however, passed briskly\r\n",
      "to the next point, and Poirot drew a deep breath of relief.\n",
      "The part of speech of 'point' in this sentence is: n\n",
      "The definition of point, as used in this sentence, is:\n",
      "the property of a shape that tapers to a sharp tip\n",
      "\n",
      "\n",
      "At that point, Poirot nudged me gently, indicating two men who\r\n",
      "were sitting together near the door.\n",
      "The part of speech of 'point' in this sentence is: n\n",
      "The definition of point, as used in this sentence, is:\n",
      "the property of a shape that tapers to a sharp tip\n",
      "\n",
      "\n",
      "I had never understood his insistence on that\r\n",
      "point.\n",
      "The part of speech of 'point' in this sentence is: n\n",
      "The definition of point, as used in this sentence, is:\n",
      "a distinct part that can be specified separately in a group of things that could be enumerated on a list\n",
      "\n",
      "\n",
      "I wondered really whether she is quite\r\n",
      "sane on that point.\"\n",
      "The part of speech of 'point' in this sentence is: n\n",
      "The definition of point, as used in this sentence, is:\n",
      "one percent of the total principal of a loan; it is paid at the time the loan is made and is independent of the interest on the loan\n",
      "\n",
      "\n",
      "\"Yes, yes, that's the point.\n",
      "The part of speech of 'point' in this sentence is: n\n",
      "The definition of point, as used in this sentence, is:\n",
      "the property of a shape that tapers to a sharp tip\n",
      "\n",
      "\n",
      "\"You can imagine that, from my aunts' point of view, it was a very good\r\n",
      "match for me.\n",
      "The part of speech of 'point' in this sentence is: n\n",
      "The definition of point, as used in this sentence, is:\n",
      "a distinct part that can be specified separately in a group of things that could be enumerated on a list\n",
      "\n",
      "\n",
      "He knew only too well how useless her\r\n",
      "gallant defiance was, since it was not the object of the defence to deny\r\n",
      "this point.\n",
      "The part of speech of 'point' in this sentence is: n\n",
      "The definition of point, as used in this sentence, is:\n",
      "the property of a shape that tapers to a sharp tip\n",
      "\n",
      "\n",
      "Finally, he would point out to the jury that there was evidence against\r\n",
      "other people besides John Cavendish.\n",
      "The part of speech of 'point' in this sentence is: v\n",
      "The definition of point, as used in this sentence, is:\n",
      "give a point to\n",
      "\n",
      "\n",
      "\"Look at it from his point of view.\n",
      "The part of speech of 'point' in this sentence is: n\n",
      "The definition of point, as used in this sentence, is:\n",
      "one percent of the total principal of a loan; it is paid at the time the loan is made and is independent of the interest on the loan\n",
      "\n",
      "\n"
     ]
    }
   ],
   "source": [
    "for sentence in sentences:\n",
    "    print sentence\n",
    "    pos = get_pos(sentence,\"point\")\n",
    "    print \"The part of speech of 'point' in this sentence is:\",pos\n",
    "    synset = lesk(nltk.word_tokenize(sentence),\"point\",pos)\n",
    "    print \"The definition of point, as used in this sentence, is:\"\n",
    "    print synset.definition()\n",
    "    print \"\\n\""
   ]
  },
  {
   "cell_type": "code",
   "execution_count": null,
   "metadata": {
    "collapsed": true
   },
   "outputs": [],
   "source": []
  }
 ],
 "metadata": {
  "anaconda-cloud": {},
  "kernelspec": {
   "display_name": "Python [Root]",
   "language": "python",
   "name": "Python [Root]"
  },
  "language_info": {
   "codemirror_mode": {
    "name": "ipython",
    "version": 2
   },
   "file_extension": ".py",
   "mimetype": "text/x-python",
   "name": "python",
   "nbconvert_exporter": "python",
   "pygments_lexer": "ipython2",
   "version": "2.7.12"
  }
 },
 "nbformat": 4,
 "nbformat_minor": 0
}
